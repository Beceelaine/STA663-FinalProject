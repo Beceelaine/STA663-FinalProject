{
 "cells": [
  {
   "cell_type": "markdown",
   "metadata": {},
   "source": [
    "# Infinite Latent Feature Models and the Indian Buffet Process"
   ]
  },
  {
   "cell_type": "markdown",
   "metadata": {},
   "source": [
    "### 1) Outline"
   ]
  },
  {
   "cell_type": "markdown",
   "metadata": {},
   "source": [
    "####a) Definition of Indian Buffet Process (IBP)"
   ]
  },
  {
   "cell_type": "markdown",
   "metadata": {},
   "source": [
    "In the Indian buffet process, N customers enter a restaurant one after another. Each customer encounters a buffet consisting of infinitely many dishes arranged in a line. The first customer starts at the left of the buffet and takes a serving from each dish, stopping after a Poisson(α) number of dishes. The ith customer moves along the buffet, sampling dishes in proportion to their popularity, taking dish k with probability mk/i , where mk is the number of previous customers who have sampled that dish. Having reached the end of all previous sampled dishes, the ith customer then tries a Poisson(α/i) number of new dishes."
   ]
  },
  {
   "cell_type": "markdown",
   "metadata": {},
   "source": [
    "####b) Steps"
   ]
  },
  {
   "cell_type": "markdown",
   "metadata": {},
   "source": [
    "1) Start by defining a probability distribution over equivalence classes of binary matrices with a finite number of rows and an unbounded number of columns. This distribution is suitable for use as a prior in probabilistic models that represent objects using a potentially infinite array of features\n",
    "\n",
    "2) Next we see that the Indian Buffet Process is a simple generative process that results in the same distribution (as described in previous step) over equivalence classes because IBP has finite number of objects (people) and infinite number of features (dishes)\n",
    "\n",
    "3) We then define a Gibbs Sampler for models using this concept of IBP\n",
    "\n",
    "4) Further, to illustrate how IBP can be used as a prior in models for unsupervised learning, we derive and test a linear-Gaussian latent feature model in which the features are binary\n",
    "\n",
    "5) We start with a finite realization and then take the infinite limit"
   ]
  },
  {
   "cell_type": "markdown",
   "metadata": {
    "collapsed": false
   },
   "source": [
    "###2) Algorithm"
   ]
  },
  {
   "cell_type": "markdown",
   "metadata": {},
   "source": [
    "1) We use Gamma prior for $\\alpha$\n",
    "$$\n",
    "\\alpha \\sim Gamma(1,1)\n",
    "$$\n",
    "2) Prior on Z is obtained by IBP (after taking the infinite limit) as:\n",
    "$$\n",
    "P(z_{ik}=1|\\textbf{z}_{-i,k}) = \\frac{m_{-i,k}}{N}\n",
    "$$\n",
    "where ${z}_{-i,k}$ is the set of assignments of other objects, not including i, for feature k, and\n",
    "${m}_{-i,k}$ is the number of objects possessing feature k, not including i.\n",
    " \n",
    "3) Likelihood is given by\n",
    "\\begin{equation}\n",
    "P(X|Z,\\sigma_X,A) = \\frac{1}{(2 \\pi \\sigma_x^2)^{ND/2}}exp(-\\frac{1}{2\\sigma_X^2}tr((X-ZA)^T(X-ZA)))\n",
    "\\end{equation}\n",
    "where Z is the binary feature matrix and A is the weight matrix. $\\sigma_X$ and $\\sigma_A$ are the respective noise terms.\n",
    "Next, we integrate out A to get $P(X|Z,\\sigma_X,\\sigma_A)$.\n",
    " \n",
    "4) Using this likelihood and the prior given by IBP, full conditional posterior for Z can be calculated as:\n",
    "$$\n",
    "P(z_{ik}|X,Z_{-(i,k)},\\sigma_X,\\sigma_A) \\propto  P(X|Z,\\sigma_X,\\sigma_A) * P(z_{ik}=1|\\textbf{z}_{-i,k})\n",
    "$$\n",
    " \n",
    "5) Now, to sample the number of new features for observation $i$, we use a truncated distribution, computing probabilities for a range of values $K_1^{(i)}$ up to an upper bound. The prior on number of features is given by $Poisson(\\frac{\\alpha}{N})$.\n",
    "Using this prior and the likelihood, we sample the number of new features.\n",
    " \n",
    "6) Conditional posterior for $\\alpha$ is given by:\n",
    "$$\n",
    "P(\\alpha|Z) \\sim Gamma(1+K_+,1+\\sum_{i=1}^{N} H_i)\n",
    "$$\n",
    "where $H_N$ is the Nth harmonic number given by $H_N=\\sum_{j=1}^{N} 1/j$\n",
    " \n",
    "7) We now run the Gibbs Sampler using these full conditionals\n",
    "\n",
    "8) To update $\\sigma_X$ and $\\sigma_A$, we use MH algorithm as follows:\n",
    "\\begin{eqnarray}\n",
    "\\epsilon \\sim Uniform(-.05,.05)\\\\\n",
    "\\sigma_X^{*} =  \\sigma_X +\\epsilon\\\\\n",
    "\\sigma_A^{*} =  \\sigma_X +\\epsilon\\\\\n",
    "\\end{eqnarray}"
   ]
  },
  {
   "cell_type": "markdown",
   "metadata": {},
   "source": [
    "###3) Test cases"
   ]
  },
  {
   "cell_type": "markdown",
   "metadata": {},
   "source": [
    "1) All probabilities must be between 0 and 1 i.e. $0<=\\frac{m_{-i,k}}{N}<=1$\n",
    "\n",
    "2) Harmonic number must be positive i.e. $H_N>0$\n",
    "\n",
    "3) Trace plots should show convergence\n",
    "\n",
    "4) When using simulated data, parameters should converge close to their true values used to simulate the data. We can make test cases such that they check that difference between posterior mean and true value is less than a threshold"
   ]
  },
  {
   "cell_type": "markdown",
   "metadata": {
    "collapsed": true
   },
   "source": [
    "###4) Pseudocode"
   ]
  },
  {
   "cell_type": "code",
   "execution_count": null,
   "metadata": {
    "collapsed": false
   },
   "outputs": [],
   "source": [
    "#N = number of objects\n",
    "#K = current number of features with at least one object\n",
    " \n",
    "# define a likelihood function to be used multiple times later, try to implement it in C or at change to log likelihood\n",
    "def likelihood(X, Z, sigma_A, sigma_X, K):\n",
    "    pass\n",
    "    #calculated with the formula given above\n",
    " \n",
    "#update z\n",
    "for i in range(N):\n",
    "    for k in range(K):\n",
    "        #set Z[i,k] = 0 and calculate posterior probability\n",
    "        Z[i,k] = 0\n",
    "        p0 = likelihood(X, Z,sigma_x, sigma_A)*P(z_ik=1|z_(-i,k))\n",
    "        #set Z[i,k] = 1 and calculate posterior probability\n",
    "        Z[i,k] = 1\n",
    "        p1 = likelihood(X, Z,sigma_X, sigma_A)*P(z_ik=1|z_(-i,k))\n",
    "       \n",
    "        U = uniform(0,1)\n",
    "        if U<p1/(p0+p1):\n",
    "            Z[i,k] = 1\n",
    "        else:\n",
    "            Z[i,k] = 0\n",
    "           \n",
    "    #Sample number of new features\n",
    "    prob = numpy.zeros(4)\n",
    "    for k_new in range(3): # max new features is 4\n",
    "        Z_temp = Z\n",
    "        Z[i,K+1:K+k_new] = 1 # add appropriate columns to Z_temp and set all possible new features to 1       \n",
    "        prob[k_new] = poisson(k,alpha/N) * likelihood(Z_temp, K=K+k_new...)\n",
    "    #normalize prob\n",
    "    prob = prob/sum(prob)\n",
    "   \n",
    "    U = uniform(0,1)\n",
    "    p = 0\n",
    "    for k_new in range(3):\n",
    "        p = p+prob[k_new]\n",
    "        if U<p:\n",
    "            k_new_i = k_new\n",
    "            break\n",
    "    \n",
    "    #set all the added features as 1\n",
    "    #also change the size of z to reflect this change.\n",
    "    Z[i,k+1:k+k_new] = 1\n",
    "    K = K+k_new_i\n",
    " \n",
    "#update sigma_A\n",
    "eps = uniform(-.05,.05)\n",
    "sigma_X_new = sigma_X+eps\n",
    "likelihood_current = likelihood(sigma_X,...)\n",
    "likelihood_new = likelihood(sigma_X_new,...)\n",
    " \n",
    "AR_X = min(1,likelihood_new/likelihood_current)\n",
    " \n",
    "U = uniform(0,1)\n",
    "if U < AR_X:\n",
    "    sigma_X = sigma_X_new\n",
    "   \n",
    "    \n",
    "#update sigma_A\n",
    "eps = uniform(-.05,.05)\n",
    "sigma_A_new = sigma_A + eps\n",
    " \n",
    "likelihood_current = likelihood(sigma_A,...)\n",
    "likelihood_new = likelihood(sigma_A_new,...)\n",
    " \n",
    "AR_A = min(1,likelihood_new/likelihood_current)\n",
    " \n",
    "U = uniform(0,1)\n",
    "if U < AR_A:\n",
    "    sigma_A = sigma_A_new\n",
    " \n",
    "#update alpha\n",
    "alpha = sample_gamma(1+K, 1+harmonic_mean_N)      "
   ]
  },
  {
   "cell_type": "markdown",
   "metadata": {},
   "source": [
    "### 5) Final code"
   ]
  },
  {
   "cell_type": "code",
   "execution_count": 526,
   "metadata": {
    "collapsed": true
   },
   "outputs": [],
   "source": [
    "import numpy as np\n",
    "from __future__ import division\n",
    "import math\n",
    "import time"
   ]
  },
  {
   "cell_type": "markdown",
   "metadata": {},
   "source": [
    "####Initial simulated data"
   ]
  },
  {
   "cell_type": "code",
   "execution_count": 527,
   "metadata": {
    "collapsed": false
   },
   "outputs": [],
   "source": [
    "np.random.seed(1)\n",
    "\n",
    "A=np.array([[0,1,0,0,0,0,1,1,1,0,0,0,0,1,0,0,0,0,0,0,0,0,0,0,0,0,0,0,0,0,0,0,0,0,0,0],\n",
    "   [0,0,0,1,1,1,0,0,0,1,0,1,0,0,0,1,1,1,0,0,0,0,0,0,0,0,0,0,0,0,0,0,0,0,0,0],\n",
    "   [0,0,0,0,0,0,0,0,0,0,0,0,0,0,0,0,0,0,1,0,0,0,0,0,1,1,0,0,0,0,1,1,1,0,0,0],\n",
    "   [0,0,0,0,0,0,0,0,0,0,0,0,0,0,0,0,0,0,0,0,0,1,1,1,0,0,0,0,1,0,0,0,0,0,1,0]])\n",
    "\n",
    "num_objects=100\n",
    "object_dim=36\n",
    " \n",
    "sigma_x_orig=0.5\n",
    "\n",
    "I=sigma_x_orig*np.eye(object_dim)\n",
    "Z_orig=np.zeros((num_objects,4))\n",
    "\n",
    "X=np.zeros((num_objects,object_dim))\n",
    "\n",
    "for i in range(num_objects):\n",
    "    Z_orig[i,:]=(np.random.uniform(0,1,4)>0.5)\n",
    "    while sum(Z_orig[i,:])==0:\n",
    "        Z_orig[i,:]=(np.random.uniform(0,1,4)>0.5)\n",
    "    X[i,:]=np.dot(np.random.normal(0,1,object_dim),I)+np.dot(Z_orig[i,:],A)"
   ]
  },
  {
   "cell_type": "markdown",
   "metadata": {},
   "source": [
    "####IBP prior"
   ]
  },
  {
   "cell_type": "code",
   "execution_count": 528,
   "metadata": {
    "collapsed": true
   },
   "outputs": [],
   "source": [
    "np.random.seed(1)\n",
    "def sampleIBP(alpha, num_objects):\n",
    "    result=np.zeros((num_objects, 1000))\n",
    "    t=np.random.poisson(alpha)\n",
    "    result[0,0:t]=np.ones(t)\n",
    "    K_plus=t\n",
    "    p=np.array((0,0))\n",
    "    for i in range(2, num_objects+1):\n",
    "        for j in range(K_plus):\n",
    "            p[0]=np.log(sum(result[0:i,j]))-np.log(i) #doubt in indices\n",
    "            p[1]=np.log(i - sum(result[0:i,j])) - np.log(i)\n",
    "            p = np.exp(p-max(p))\n",
    "            if np.random.uniform(0,1,1)<(p[0]/sum(p)):\n",
    "                result[i-1,j]=1\n",
    "            else:\n",
    "                result[i-1,j]=0\n",
    "        t=np.random.poisson(alpha/i)\n",
    "        result[i-1,K_plus:K_plus+t]=np.ones(t) #doubt in indices\n",
    "        K_plus=K_plus+t\n",
    "    \n",
    "    result=result[:,0:K_plus]\n",
    "    return(result,K_plus)          "
   ]
  },
  {
   "cell_type": "code",
   "execution_count": 529,
   "metadata": {
    "collapsed": true
   },
   "outputs": [],
   "source": [
    "np.random.seed(1)\n",
    "#some shit\n",
    "def calcInverse(Zn,M,i,k,val):\n",
    "    M_i = M-np.dot(np.dot(np.dot(M,Zn[i,:].T),Zn[i,:]),M)/(np.dot(np.dot(Zn[i,:],M),Zn[i,:].T)-1)\n",
    "    Zn[i,k] = val\n",
    "    M = M_i-np.dot(np.dot(np.dot(M_i,Zn[i,:].T),Zn[i,:]),M_i)/(np.dot(np.dot(Zn[i,:],M_i),Zn[i,:].T)+1)\n",
    "    Inv = M\n",
    "    return Inv"
   ]
  },
  {
   "cell_type": "markdown",
   "metadata": {},
   "source": [
    "####Likelihood function"
   ]
  },
  {
   "cell_type": "code",
   "execution_count": 530,
   "metadata": {
    "collapsed": false
   },
   "outputs": [],
   "source": [
    "np.random.seed(1)\n",
    "def likelihood(X, Z, M, sigma_A, sigma_X, K_plus, num_objects, object_dim):\n",
    "    log_ll=(-1)*num_objects*object_dim*0.5*np.log(2*np.pi)-1*(num_objects-K_plus)*object_dim*np.log(sigma_X)-K_plus*object_dim*np.log(sigma_A)-object_dim*(0.5)*np.log(np.linalg.det((np.dot(Z.T,Z) + np.dot((sigma_X**2/sigma_A**2),np.eye(K_plus)))))+(-1/(2*sigma_X**2))*np.trace(np.dot(np.dot(X.T,(np.eye(num_objects)-np.dot(np.dot(Z,M),Z.T))),X))\n",
    "    return log_ll"
   ]
  },
  {
   "cell_type": "markdown",
   "metadata": {},
   "source": [
    "####Gibbs Sampler and MH (with timing)"
   ]
  },
  {
   "cell_type": "code",
   "execution_count": null,
   "metadata": {
    "collapsed": false,
    "scrolled": false
   },
   "outputs": [],
   "source": [
    "t0 = time.time()\n",
    "np.random.seed(1)\n",
    "HN=0\n",
    "for i in range(1,num_objects+1): #check indices\n",
    "    HN=HN+1/i\n",
    "\n",
    "E=1000 #change to 1000\n",
    "BURN_IN=0\n",
    "SAMPLE_SIZE=1000\n",
    "\n",
    "sigma_A=1\n",
    "sigma_X=1\n",
    "alpha=1\n",
    "K_inf=20\n",
    "\n",
    "sam=sampleIBP(alpha,num_objects)\n",
    "\n",
    "Z=sam[0]\n",
    "K_plus=sam[1]\n",
    "\n",
    "chain_Z=np.zeros((SAMPLE_SIZE,num_objects,K_inf))\n",
    "chain_K=np.zeros((SAMPLE_SIZE,1))\n",
    "chain_sigma_X=np.zeros((SAMPLE_SIZE,1))\n",
    "chain_sigma_A=np.zeros((SAMPLE_SIZE,1))\n",
    "chain_alpha=np.zeros((SAMPLE_SIZE,1))\n",
    "\n",
    "s_counter=0\n",
    "for e in range(E):\n",
    "    print e, K_plus, alpha\n",
    "    if((e+1)>BURN_IN):\n",
    "        chain_Z[s_counter,:,0:K_plus]=Z[:,0:K_plus]\n",
    "        chain_K[s_counter]=K_plus\n",
    "        chain_sigma_X[s_counter]=sigma_X\n",
    "        chain_sigma_A[s_counter]=sigma_A\n",
    "        chain_alpha[s_counter]=alpha\n",
    "        s_counter=s_counter+1\n",
    "    \n",
    "    for i in range(num_objects):\n",
    "        #M=np.linalg.inv((np.dot(Z[:,0:K_plus].T,Z[:,0:K_plus]) + np.dot(((sigma_X)**2/(sigma_A)**2),np.eye(K_plus))))\n",
    "        for k in range(K_plus):\n",
    "            if (k+1)>K_plus: #doubt\n",
    "                break\n",
    "            if Z[i,k]>0:\n",
    "                if (sum(Z[:,k]) - Z[i,k])<=0:\n",
    "                    Z[i,k]=0\n",
    "                    Z[:,k:(K_plus-1)] = Z[:,(k+1):K_plus] #doubt in indices\n",
    "                    K_plus = K_plus-1\n",
    "                    #Z[:,K_plus]=0\n",
    "                    #M=np.linalg.inv((np.dot(Z[:,0:K_plus].T,Z[:,0:K_plus]) + np.dot(((sigma_X)**2/(sigma_A)**2),np.eye(K_plus))))\n",
    "                    continue\n",
    "            #M1 = calcInverse(Z[:,0:K_plus], M, i, k, 1) #some shit\n",
    "            #M2 = calcInverse(Z[:,0:K_plus], M, i, k, 0) #some shit\n",
    "            \n",
    "            P=np.array([0,0])\n",
    "            \n",
    "            Z[i,k]=1\n",
    "            M1=np.linalg.inv((np.dot(Z[:,0:K_plus].T,Z[:,0:K_plus]) + np.dot(((sigma_X)**2/(sigma_A)**2),np.eye(K_plus))))\n",
    "            P[0]=likelihood(X, Z[:,0:K_plus], M1, sigma_A, sigma_X, K_plus, num_objects, object_dim) + np.log(sum(Z[:,k])- Z[i,k]) -np.log(num_objects)\n",
    "            \n",
    "            Z[i,k]=0\n",
    "            M2=np.linalg.inv((np.dot(Z[:,0:K_plus].T,Z[:,0:K_plus]) + np.dot(((sigma_X)**2/(sigma_A)**2),np.eye(K_plus))))\n",
    "            P[1]=likelihood(X, Z[:,0:K_plus], M2, sigma_A, sigma_X, K_plus, num_objects, object_dim) + np.log(num_objects - sum(Z[:,k])) -np.log(num_objects)\n",
    "            \n",
    "            P=np.exp(P - max(P))\n",
    "            \n",
    "            if np.random.uniform(0,1,1)<(P[0]/(P[0]+P[1])):\n",
    "                Z[i,k] = 1\n",
    "                M = M1\n",
    "            else:\n",
    "                Z[i,k] = 0\n",
    "                M = M2\n",
    "            \n",
    "        trun=np.zeros(5) #try 4\n",
    "        alpha_N = alpha/num_objects\n",
    "        \n",
    "        for k_i in range(5):\n",
    "            if Z.shape[1]>(K_plus+k_i):\n",
    "                #Z[:,K_plus:(K_plus+k_i)]=0 #added later\n",
    "                Z[i,K_plus:(K_plus+k_i)]=1       \n",
    "            else:\n",
    "                Ztemp=np.zeros((Z.shape[0],K_plus+k_i))\n",
    "                Ztemp[0:Z.shape[0],0:Z.shape[1]]=Z\n",
    "                #Ztemp[:,K_plus:(K_plus+k_i)] = 0 #added later\n",
    "                Ztemp[i,K_plus:(K_plus+k_i)] = 1\n",
    "                Z=Ztemp\n",
    "            #doubt in indices\n",
    "            M=np.linalg.inv((np.dot(Z[:,0:(K_plus+k_i)].T,Z[:,0:(K_plus+k_i)]) + np.dot(((sigma_X)**2/(sigma_A)**2),np.eye((K_plus+k_i)))))\n",
    "            trun[k_i] = k_i*np.log(alpha_N) - alpha_N - np.log(math.factorial(k_i)) + likelihood(X, Z[:,0:(K_plus+k_i)], M, sigma_A, sigma_X, K_plus+k_i, num_objects, object_dim)\n",
    "        \n",
    "        Z[i,K_plus:K_plus+4] = 0 #check indices\n",
    "        trun = np.exp(trun - max(trun))\n",
    "        trun = trun/sum(trun)\n",
    "        p = np.random.uniform(0,1,1)\n",
    "        t = 0\n",
    "        for k_i in range(5):\n",
    "            t = t+trun[k_i]\n",
    "            if p<t:\n",
    "                new_dishes = k_i\n",
    "                break\n",
    "        if Z.shape[1]>(K_plus+new_dishes):\n",
    "            Ztemp=Z\n",
    "            #Ztemp[:,K_plus:(K_plus+new_dishes)]=0 #added later\n",
    "            Ztemp[i,K_plus:(K_plus+new_dishes)]=1       \n",
    "        else:\n",
    "            Ztemp=np.zeros((Z.shape[0],K_plus+new_dishes))\n",
    "            Ztemp[0:Z.shape[0],0:Z.shape[1]]=Z\n",
    "            #Ztemp[:,K_plus:(K_plus+new_dishes)] = 0 #added later\n",
    "            Ztemp[i,K_plus:(K_plus+new_dishes)] = 1\n",
    "        \n",
    "        #Ztemp=np.zeros((Z.shape[0],K_plus+new_dishes))\n",
    "        #Ztemp[0:Z.shape[0],0:Z.shape[1]]=Z\n",
    "        #Ztemp[i,K_plus:K_plus+new_dishes] = 1\n",
    "        Z=Ztemp\n",
    "        K_plus = K_plus + new_dishes\n",
    "                \n",
    "    M=np.linalg.inv((np.dot(Z[:,0:K_plus+new_dishes].T,Z[:,0:K_plus+new_dishes]) + np.dot(((sigma_X)**2/(sigma_A)**2),np.eye(K_plus+new_dishes))))\n",
    "    l_curr=likelihood(X, Z[:,0:(K_plus+new_dishes)], M, sigma_A, sigma_X, K_plus+new_dishes, num_objects, object_dim)\n",
    "    if np.random.uniform(0,1,1)<.5:\n",
    "        pr_sigma_X=sigma_X-np.random.uniform(0,1,1)/20\n",
    "    else:\n",
    "        pr_sigma_X=sigma_X+np.random.uniform(0,1,1)/20\n",
    "        \n",
    "    M=np.linalg.inv((np.dot(Z[:,0:K_plus+new_dishes].T,Z[:,0:K_plus+new_dishes]) + np.dot(((pr_sigma_X[0])**2/(sigma_A)**2),np.eye(K_plus+new_dishes))))\n",
    "    l_new_X=likelihood(X, Z[:,0:(K_plus+new_dishes)], M, sigma_A, pr_sigma_X[0], K_plus+new_dishes, num_objects, object_dim)\n",
    "    acc_X=np.exp(min(0,l_new_X-l_curr))\n",
    "    \n",
    "    if np.random.uniform(0,1,1)<.5:\n",
    "        pr_sigma_A=sigma_A-np.random.uniform(0,1,1)/20\n",
    "    else:\n",
    "        pr_sigma_A=sigma_A+np.random.uniform(0,1,1)/20\n",
    "    \n",
    "    M=np.linalg.inv((np.dot(Z[:,0:K_plus+new_dishes].T,Z[:,0:K_plus+new_dishes]) + np.dot(((sigma_X)**2/(pr_sigma_A[0])**2),np.eye(K_plus+new_dishes))))\n",
    "    l_new_A=likelihood(X, Z[:,0:(K_plus+new_dishes)], M, pr_sigma_A[0], sigma_X, K_plus+new_dishes, num_objects, object_dim)\n",
    "    acc_A=np.exp(min(0,l_new_A-l_curr))\n",
    "    \n",
    "    if np.random.uniform(0,1,1)<acc_X:\n",
    "        sigma_X=pr_sigma_X[0]\n",
    "    \n",
    "    if np.random.uniform(0,1,1)<acc_A:\n",
    "        sigma_A=pr_sigma_A[0]\n",
    "        \n",
    "    alpha = np.random.gamma(1+K_plus, 1/(1+HN))\n",
    "    \n",
    "#removed K_plus + new_dishes from MH\n",
    "t1 = time.time()\n",
    "total=t1-t0"
   ]
  },
  {
   "cell_type": "markdown",
   "metadata": {},
   "source": [
    "###6) Results "
   ]
  },
  {
   "cell_type": "markdown",
   "metadata": {},
   "source": [
    "####Total time taken "
   ]
  },
  {
   "cell_type": "code",
   "execution_count": 532,
   "metadata": {
    "collapsed": false
   },
   "outputs": [
    {
     "data": {
      "text/plain": [
       "321.6896"
      ]
     },
     "execution_count": 532,
     "metadata": {},
     "output_type": "execute_result"
    }
   ],
   "source": [
    "total"
   ]
  },
  {
   "cell_type": "markdown",
   "metadata": {},
   "source": [
    "####Images"
   ]
  },
  {
   "cell_type": "code",
   "execution_count": 533,
   "metadata": {
    "collapsed": true
   },
   "outputs": [],
   "source": [
    "import matplotlib.pyplot as plt\n",
    "import matplotlib.cm as cm\n",
    "%matplotlib inline\n",
    "%precision 4\n",
    "plt.style.use('ggplot')"
   ]
  },
  {
   "cell_type": "code",
   "execution_count": 534,
   "metadata": {
    "collapsed": false
   },
   "outputs": [
    {
     "data": {
      "text/plain": [
       "<matplotlib.collections.QuadMesh at 0x11dbbaad0>"
      ]
     },
     "execution_count": 534,
     "metadata": {},
     "output_type": "execute_result"
    },
    {
     "data": {
      "image/png": "[encoded data removed]",
      "text/plain": [
       "<matplotlib.figure.Figure at 0x11df8f110>"
      ]
     },
     "metadata": {},
     "output_type": "display_data"
    }
   ],
   "source": [
    "plt.figure(num=None, figsize=(12,3), dpi=80, facecolor='w', edgecolor='k')\n",
    "plt.subplot(141)\n",
    "plt.pcolormesh(A[0,:].reshape(6,6),cmap=plt.cm.gray)     \n",
    "plt.subplot(142)\n",
    "plt.pcolormesh(A[1,:].reshape(6,6),cmap=plt.cm.gray)  \n",
    "plt.subplot(143)\n",
    "plt.pcolormesh(A[2,:].reshape(6,6),cmap=plt.cm.gray)  \n",
    "plt.subplot(144)\n",
    "plt.pcolormesh(A[3,:].reshape(6,6),cmap=plt.cm.gray)  "
   ]
  },
  {
   "cell_type": "code",
   "execution_count": 535,
   "metadata": {
    "collapsed": false
   },
   "outputs": [],
   "source": [
    "Z=chain_Z[999,:,0:10].reshape(100,10)\n",
    "sigma_X=chain_sigma_X[999]\n",
    "sigma_A=chain_sigma_A[999]\n",
    "A_inf=np.dot(np.dot(np.linalg.inv((np.dot(Z.T,Z)+(sigma_X/sigma_A)*np.eye(10))),Z.T),X)"
   ]
  },
  {
   "cell_type": "code",
   "execution_count": 536,
   "metadata": {
    "collapsed": false
   },
   "outputs": [
    {
     "data": {
      "text/plain": [
       "<matplotlib.collections.QuadMesh at 0x102124e90>"
      ]
     },
     "execution_count": 536,
     "metadata": {},
     "output_type": "execute_result"
    },
    {
     "data": {
      "image/png": "[encoded data removed]",
      "text/plain": [
       "<matplotlib.figure.Figure at 0x11da64790>"
      ]
     },
     "metadata": {},
     "output_type": "display_data"
    }
   ],
   "source": [
    "plt.figure(num=None, figsize=(12,3), dpi=80, facecolor='w', edgecolor='k')\n",
    "plt.subplot(141)\n",
    "plt.pcolormesh(A_inf[3,:].reshape(6,6),cmap=plt.cm.gray)     \n",
    "plt.subplot(142)\n",
    "plt.pcolormesh(A_inf[0,:].reshape(6,6),cmap=plt.cm.gray)  \n",
    "plt.subplot(143)\n",
    "plt.pcolormesh(A_inf[1,:].reshape(6,6),cmap=plt.cm.gray)  \n",
    "plt.subplot(144)\n",
    "plt.pcolormesh(A_inf[2,:].reshape(6,6),cmap=plt.cm.gray)"
   ]
  },
  {
   "cell_type": "markdown",
   "metadata": {},
   "source": [
    "####Trace plots"
   ]
  },
  {
   "cell_type": "code",
   "execution_count": 537,
   "metadata": {
    "collapsed": false
   },
   "outputs": [
    {
     "name": "stdout",
     "output_type": "stream",
     "text": [
      "4.814\n"
     ]
    },
    {
     "data": {
      "text/plain": [
       "31.6250"
      ]
     },
     "execution_count": 537,
     "metadata": {},
     "output_type": "execute_result"
    },
    {
     "data": {
      "image/png": "[encoded data removed]",
      "text/plain": [
       "<matplotlib.figure.Figure at 0x11df88050>"
      ]
     },
     "metadata": {},
     "output_type": "display_data"
    }
   ],
   "source": [
    "plt.plot(chain_K)\n",
    "print np.mean(chain_K)\n",
    "np.sum(chain_K[200:999]==4)/8"
   ]
  },
  {
   "cell_type": "code",
   "execution_count": 538,
   "metadata": {
    "collapsed": false
   },
   "outputs": [
    {
     "data": {
      "text/plain": [
       "0.9373"
      ]
     },
     "execution_count": 538,
     "metadata": {},
     "output_type": "execute_result"
    },
    {
     "data": {
      "image/png": "[encoded data removed]",
      "text/plain": [
       "<matplotlib.figure.Figure at 0x11de12810>"
      ]
     },
     "metadata": {},
     "output_type": "display_data"
    }
   ],
   "source": [
    "plt.plot(chain_alpha)\n",
    "np.mean(chain_alpha)"
   ]
  },
  {
   "cell_type": "code",
   "execution_count": 539,
   "metadata": {
    "collapsed": false
   },
   "outputs": [
    {
     "data": {
      "text/plain": [
       "0.5098"
      ]
     },
     "execution_count": 539,
     "metadata": {},
     "output_type": "execute_result"
    },
    {
     "data": {
      "image/png": "[encoded data removed]",
      "text/plain": [
       "<matplotlib.figure.Figure at 0x105830510>"
      ]
     },
     "metadata": {},
     "output_type": "display_data"
    }
   ],
   "source": [
    "plt.plot(chain_sigma_X)\n",
    "np.mean(chain_sigma_X)"
   ]
  },
  {
   "cell_type": "code",
   "execution_count": 540,
   "metadata": {
    "collapsed": false
   },
   "outputs": [
    {
     "data": {
      "text/plain": [
       "0.4287"
      ]
     },
     "execution_count": 540,
     "metadata": {},
     "output_type": "execute_result"
    },
    {
     "data": {
      "image/png": "[encoded data removed]",
      "text/plain": [
       "<matplotlib.figure.Figure at 0x11bb68b50>"
      ]
     },
     "metadata": {},
     "output_type": "display_data"
    }
   ],
   "source": [
    "plt.plot(chain_sigma_A)\n",
    "np.mean(chain_sigma_A)"
   ]
  },
  {
   "cell_type": "markdown",
   "metadata": {},
   "source": [
    "###7) Profiling"
   ]
  },
  {
   "cell_type": "code",
   "execution_count": 541,
   "metadata": {
    "collapsed": false
   },
   "outputs": [
    {
     "name": "stdout",
     "output_type": "stream",
     "text": [
      "Total time taken for 1000 iterations of Gibbs Sampler and Metropolis Hastings is 321.69 seconds\n"
     ]
    }
   ],
   "source": [
    "print \"Total time taken for 1000 iterations of Gibbs Sampler and Metropolis Hastings is\",round(total,3),\"seconds\" "
   ]
  },
  {
   "cell_type": "markdown",
   "metadata": {},
   "source": [
    "###8) Optimization Strategies"
   ]
  },
  {
   "cell_type": "markdown",
   "metadata": {},
   "source": [
    "1) Write the likelihood function in C or Cython\n",
    "\n",
    "2) Probably might not be much help converting full code to C because we are using numpy anyway\n",
    "\n",
    "3) Put matrix M calculation inside the likelihood function and not do outside again and again\n",
    "\n",
    "4) Use Griffiths and Ghahramani (2005; Equations 51 to 54) for faster matrix inverse calculation\n",
    "\n",
    "5) Remove extra if/else statements\n",
    "\n",
    "6) Vectorize the loop for k_i\n",
    "\n",
    "7) Use JIT compiling"
   ]
  },
  {
   "cell_type": "code",
   "execution_count": null,
   "metadata": {
    "collapsed": true
   },
   "outputs": [],
   "source": []
  }
 ],
 "metadata": {
  "kernelspec": {
   "display_name": "Python 2",
   "language": "python",
   "name": "python2"
  },
  "language_info": {
   "codemirror_mode": {
    "name": "ipython",
    "version": 2
   },
   "file_extension": ".py",
   "mimetype": "text/x-python",
   "name": "python",
   "nbconvert_exporter": "python",
   "pygments_lexer": "ipython2",
   "version": "2.7.9"
  }
 },
 "nbformat": 4,
 "nbformat_minor": 0
}
