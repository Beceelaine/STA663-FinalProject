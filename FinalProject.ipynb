{
 "cells": [
  {
   "cell_type": "markdown",
   "metadata": {},
   "source": [
    "# Infinite Latent Feature Models and the Indian Buffet Process"
   ]
  },
  {
   "cell_type": "markdown",
   "metadata": {},
   "source": [
    "### 1) Outline"
   ]
  },
  {
   "cell_type": "markdown",
   "metadata": {},
   "source": [
    "####a) Definition of Indian Buffet Process (IBP)"
   ]
  },
  {
   "cell_type": "markdown",
   "metadata": {},
   "source": [
    "In the Indian buffet process, N customers enter a restaurant one after another. Each customer encounters a buffet consisting of infinitely many dishes arranged in a line. The first customer starts at the left of the buffet and takes a serving from each dish, stopping after a Poisson(α) number of dishes. The ith customer moves along the buffet, sampling dishes in proportion to their popularity, taking dish k with probability mk/i , where mk is the number of previous customers who have sampled that dish. Having reached the end of all previous sampled dishes, the ith customer then tries a Poisson(α/i) number of new dishes."
   ]
  },
  {
   "cell_type": "markdown",
   "metadata": {},
   "source": [
    "####b) Steps"
   ]
  },
  {
   "cell_type": "markdown",
   "metadata": {},
   "source": [
    "1) Start by defining a probability distribution over equivalence classes of binary matrices with a finite number of rows and an unbounded number of columns. This distribution is suitable for use as a prior in probabilistic models that represent objects using a potentially infinite array of features\n",
    "\n",
    "2) Next we see that the Indian Buffet Process is a simple generative process that results in the same distribution (as described in previous step) over equivalence classes because IBP has finite number of objects (people) and infinite number of features (dishes)\n",
    "\n",
    "3) We then define a Gibbs Sampler for models using this concept of IBP\n",
    "\n",
    "4) Further, to illustrate how IBP can be used as a prior in models for unsupervised learning, we derive and test a linear-Gaussian latent feature model in which the features are binary\n",
    "\n",
    "5) We start with a finite realization and then take the infinite limit"
   ]
  },
  {
   "cell_type": "markdown",
   "metadata": {
    "collapsed": false
   },
   "source": [
    "###2) Algorithm/Pseudocode:"
   ]
  },
  {
   "cell_type": "markdown",
   "metadata": {},
   "source": [
    "1) We use Gamma prior for $\\alpha$\n",
    "$$\n",
    "\\alpha \\sim Gamma(1,1)\n",
    "$$\n",
    "2) Prior on Z is obtained by IBP (after taking the infinite limit) as:\n",
    "$$\n",
    "P(z_{ik}=1|\\textbf{z}_{-i,k}) = \\frac{m_{-i,k}}{N}\n",
    "$$\n",
    "where ${z}_{-i,k}$ is the set of assignments of other objects, not including i, for feature k, and\n",
    "${m}_{-i,k}$ is the number of objects possessing feature k, not including i.\n",
    " \n",
    "3) Likelihood is given by\n",
    "\\begin{equation}\n",
    "P(X|Z,\\sigma_X,A) = \\frac{1}{(2 \\pi \\sigma_x^2)^{ND/2}}exp(-\\frac{1}{2\\sigma_X^2}tr((X-ZA)^T(X-ZA)))\n",
    "\\end{equation}\n",
    "where Z is the binary feature matrix and A is the weight matrix. $\\sigma_X$ and $\\sigma_A$ are the respective noise terms.\n",
    "Next, we integrate out A to get $P(X|Z,\\sigma_X,\\sigma_A)$.\n",
    " \n",
    "4) Using this likelihood and the prior given by IBP, full conditional posterior for Z can be calculated as:\n",
    "$$\n",
    "P(z_{ik}|X,Z_{-(i,k)},\\sigma_X,\\sigma_A) \\propto  P(X|Z,\\sigma_X,\\sigma_A) * P(z_{ik}=1|\\textbf{z}_{-i,k})\n",
    "$$\n",
    " \n",
    "5) Now, to sample the number of new features for observation $i$, we use a truncated distribution, computing probabilities for a range of values $K_1^{(i)}$ up to an upper bound. The prior on number of features is given by $Poisson(\\frac{\\alpha}{N})$.\n",
    "Using this prior and the likelihood, we sample the number of new features.\n",
    " \n",
    "6) Conditional posterior for $\\alpha$ is given by:\n",
    "$$\n",
    "P(\\alpha|Z) \\sim Gamma(1+K_+,1+\\sum_{i=1}^{N} H_i)\n",
    "$$\n",
    "where $H_N$ is the Nth harmonic number given by $H_N=\\sum_{j=1}^{N} 1/j$\n",
    " \n",
    "7) We now run the Gibbs Sampler using these full conditionals\n",
    "\n",
    "8) To update $\\sigma_X$ and $\\sigma_A$, we use MH algorithm as follows:\n",
    "\\begin{eqnarray}\n",
    "\\epsilon \\sim Uniform(-.05,.05)\\\\\n",
    "\\sigma_X^{*} =  \\sigma_X +\\epsilon\\\\\n",
    "\\sigma_A^{*} =  \\sigma_X +\\epsilon\\\\\n",
    "\\end{eqnarray}"
   ]
  },
  {
   "cell_type": "markdown",
   "metadata": {},
   "source": [
    "###3) Test cases:"
   ]
  },
  {
   "cell_type": "markdown",
   "metadata": {},
   "source": [
    "1) All probabilities must be between 0 and 1 i.e. $0<=\\frac{m_{-i,k}}{N}<=1$\n",
    "\n",
    "2) Harmonic number must be positive i.e. $H_N>0$\n",
    "\n",
    "3) Trace plots should show convergence\n",
    "\n",
    "4) When using simulated data, parameters should converge close to their true values used to simulate the data. We can make test cases such that they check that difference between posterior mean and true value is less than a threshold"
   ]
  },
  {
   "cell_type": "markdown",
   "metadata": {
    "collapsed": true
   },
   "source": [
    "###4) Initial code "
   ]
  },
  {
   "cell_type": "code",
   "execution_count": null,
   "metadata": {
    "collapsed": false
   },
   "outputs": [],
   "source": [
    "#N = number of objects\n",
    "#K = current number of features with at least one object\n",
    " \n",
    "# define a likelihood function to be used multiple times later, try to implement it in C or at change to log likelihood\n",
    "def likelihood(X, Z, sigma_A, sigma_X, K):\n",
    "    pass\n",
    "    #calculated with the formula given above\n",
    " \n",
    "#update z\n",
    "for i in range(N):\n",
    "    for k in range(K):\n",
    "        #set Z[i,k] = 0 and calculate posterior probability\n",
    "        Z[i,k] = 0\n",
    "        p0 = likelihood(X, Z,sigma_x, sigma_A)*P(z_ik=1|z_(-i,k))\n",
    "        #set Z[i,k] = 1 and calculate posterior probability\n",
    "        Z[i,k] = 1\n",
    "        p1 = likelihood(X, Z,sigma_X, sigma_A)*P(z_ik=1|z_(-i,k))\n",
    "       \n",
    "        U = uniform(0,1)\n",
    "        if U<p1/(p0+p1):\n",
    "            Z[i,k] = 1\n",
    "        else:\n",
    "            Z[i,k] = 0\n",
    "           \n",
    "    #Sample number of new features\n",
    "    prob = numpy.zeros(4)\n",
    "    for k_new in range(3): # max new features is 4\n",
    "        Z_temp = Z\n",
    "        Z[i,K+1:K+k_new] = 1 # add appropriate columns to Z_temp and set all possible new features to 1       \n",
    "        prob[k_new] = poisson(k,alpha/N) * likelihood(Z_temp, K=K+k_new...)\n",
    "    #normalize prob\n",
    "    prob = prob/sum(prob)\n",
    "   \n",
    "    U = uniform(0,1)\n",
    "    p = 0\n",
    "    for k_new in range(3):\n",
    "        p = p+prob[k_new]\n",
    "        if U<p:\n",
    "            k_new_i = k_new\n",
    "            break\n",
    "    \n",
    "    #set all the added features as 1\n",
    "    #also change the size of z to reflect this change.\n",
    "    Z[i,k+1:k+k_new] = 1\n",
    "    K = K+k_new_i\n",
    " \n",
    "#update sigma_A\n",
    "eps = uniform(-.05,.05)\n",
    "sigma_X_new = sigma_X+eps\n",
    "likelihood_current = likelihood(sigma_X,...)\n",
    "likelihood_new = likelihood(sigma_X_new,...)\n",
    " \n",
    "AR_X = min(1,likelihood_new/likelihood_current)\n",
    " \n",
    "U = uniform(0,1)\n",
    "if U < AR_X:\n",
    "    sigma_X = sigma_X_new\n",
    "   \n",
    "    \n",
    "#update sigma_A\n",
    "eps = uniform(-.05,.05)\n",
    "sigma_A_new = sigma_A + eps\n",
    " \n",
    "likelihood_current = likelihood(sigma_A,...)\n",
    "likelihood_new = likelihood(sigma_A_new,...)\n",
    " \n",
    "AR_A = min(1,likelihood_new/likelihood_current)\n",
    " \n",
    "U = uniform(0,1)\n",
    "if U < AR_A:\n",
    "    sigma_A = sigma_A_new\n",
    " \n",
    "#update alpha\n",
    "alpha = sample_gamma(1+K, 1+harmonic_mean_N)      "
   ]
  },
  {
   "cell_type": "code",
   "execution_count": 294,
   "metadata": {
    "collapsed": true
   },
   "outputs": [],
   "source": [
    "import numpy as np\n",
    "from __future__ import division"
   ]
  },
  {
   "cell_type": "code",
   "execution_count": 310,
   "metadata": {
    "collapsed": false
   },
   "outputs": [],
   "source": [
    "np.random.seed(1000)\n",
    "\n",
    "A=np.array([[0,1,0,0,0,0,1,1,1,0,0,0,0,1,0,0,0,0,0,0,0,0,0,0,0,0,0,0,0,0,0,0,0,0,0,0],\n",
    "   [0,0,0,1,1,1,0,0,0,1,0,1,0,0,0,1,1,1,0,0,0,0,0,0,0,0,0,0,0,0,0,0,0,0,0,0],\n",
    "   [0,0,0,0,0,0,0,0,0,0,0,0,0,0,0,0,0,0,1,0,0,0,0,0,1,1,0,0,0,0,1,1,1,0,0,0],\n",
    "   [0,0,0,0,0,0,0,0,0,0,0,0,0,0,0,0,0,0,0,0,0,1,1,1,0,0,0,0,1,0,0,0,0,0,1,0]])\n",
    "\n",
    "num_objects=100\n",
    "object_dim=36\n",
    " \n",
    "sigma_x_orig=0.5\n",
    "\n",
    "I=sigma_x_orig*np.eye(object_dim)\n",
    "Z_orig=np.zeros((num_objects,4))\n",
    "\n",
    "X=np.zeros((num_objects,object_dim))\n",
    "\n",
    "for i in range(num_objects):\n",
    "    Z_orig[i,:]=(np.random.uniform(0,1,4)>0.5)\n",
    "    while sum(Z_orig[i,:])==0:\n",
    "        Z_orig[i,:]=(np.random.uniform(0,1,4)>0.5)\n",
    "    X[i,:]=np.dot(np.random.normal(0,1,object_dim),I)+np.dot(Z_orig[i,:],A)"
   ]
  },
  {
   "cell_type": "code",
   "execution_count": 350,
   "metadata": {
    "collapsed": true
   },
   "outputs": [],
   "source": [
    "def sampleIBP(alpha, num_objects):\n",
    "    result=np.zeros((num_objects, 1000))\n",
    "    t=np.random.poisson(alpha)\n",
    "    result[0,0:t]=np.ones(t)\n",
    "    K_plus=t\n",
    "    p=np.array((0,0))\n",
    "    for i in range(2, num_objects+1):\n",
    "        for j in range(K_plus):\n",
    "            p[0]=np.log(sum(result[0:i-1,j]))-np.log(i)\n",
    "            p[1]=np.log(i - sum(result[0:i-1,j])) - np.log(i)\n",
    "            p = np.exp(p-max(p))\n",
    "            if np.random.uniform(0,1,1)<(p[0]/sum(p)):\n",
    "                result[i-1,j]=1\n",
    "            else:\n",
    "                result[i-1,j]=0\n",
    "        t=np.random.poisson(alpha/i)\n",
    "        result[i-1,K_plus:K_plus+t]=np.ones(t) #doubt in indices\n",
    "        K_plus=K_plus+t\n",
    "    \n",
    "    result=result[:,0:K_plus]\n",
    "    return(result,K_plus)          "
   ]
  },
  {
   "cell_type": "code",
   "execution_count": 357,
   "metadata": {
    "collapsed": false
   },
   "outputs": [],
   "source": [
    "HN=0\n",
    "for i in range(1,num_objects+1): #check indices\n",
    "    HN=HN+1/i\n",
    "\n",
    "E=1000\n",
    "BURN_IN=0\n",
    "SAMPLE_SIZE=1000\n",
    "\n",
    "sigma_A=1\n",
    "sigma_X=1\n",
    "alpha=1\n",
    "K_inf=10\n",
    "\n",
    "sam=sampleIBP(alpha,num_objects)\n",
    "Z=sam[0]\n",
    "K_plus=sam[1]\n",
    "\n",
    "chain_Z=np.zeros((SAMPLE_SIZE,num_objects,K_inf))\n",
    "chain_K=np.zeros((SAMPLE_SIZE,1))\n",
    "chain_sigma_X=np.zeros((SAMPLE_SIZE,1))\n",
    "chain_sigma_A=np.zeros((SAMPLE_SIZE,1))\n",
    "chain_alpha=np.zeros((SAMPLE_SIZE,1))\n",
    "\n",
    "s_counter=0\n",
    "for e in range(E):\n",
    "    if(e>BURN_IN):\n",
    "        chain_Z[s_counter,:,0:K_plus]=Z[:,0:K_plus]\n",
    "        chain_K[s_counter]=K_plus\n",
    "        chain_sigma_X[s_counter]=sigma_X\n",
    "        chain_sigma_A[s_counter]=sigma_A\n",
    "        chain_alpha[s_counter]=alpha\n",
    "        s_counter=s_counter+1"
   ]
  },
  {
   "cell_type": "code",
   "execution_count": null,
   "metadata": {
    "collapsed": false
   },
   "outputs": [],
   "source": []
  },
  {
   "cell_type": "code",
   "execution_count": null,
   "metadata": {
    "collapsed": false
   },
   "outputs": [],
   "source": []
  },
  {
   "cell_type": "code",
   "execution_count": null,
   "metadata": {
    "collapsed": false
   },
   "outputs": [],
   "source": []
  },
  {
   "cell_type": "code",
   "execution_count": null,
   "metadata": {
    "collapsed": false
   },
   "outputs": [],
   "source": []
  },
  {
   "cell_type": "code",
   "execution_count": null,
   "metadata": {
    "collapsed": false
   },
   "outputs": [],
   "source": []
  },
  {
   "cell_type": "code",
   "execution_count": null,
   "metadata": {
    "collapsed": false
   },
   "outputs": [],
   "source": []
  },
  {
   "cell_type": "code",
   "execution_count": null,
   "metadata": {
    "collapsed": true
   },
   "outputs": [],
   "source": []
  }
 ],
 "metadata": {
  "kernelspec": {
   "display_name": "Python 2",
   "language": "python",
   "name": "python2"
  },
  "language_info": {
   "codemirror_mode": {
    "name": "ipython",
    "version": 2
   },
   "file_extension": ".py",
   "mimetype": "text/x-python",
   "name": "python",
   "nbconvert_exporter": "python",
   "pygments_lexer": "ipython2",
   "version": "2.7.9"
  }
 },
 "nbformat": 4,
 "nbformat_minor": 0
}
