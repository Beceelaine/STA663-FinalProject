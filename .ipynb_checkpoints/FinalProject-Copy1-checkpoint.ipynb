{
 "cells": [
  {
   "cell_type": "markdown",
   "metadata": {},
   "source": [
    "# Infinite Latent Feature Models and the Indian Buffet Process"
   ]
  },
  {
   "cell_type": "markdown",
   "metadata": {},
   "source": [
    "### 1) Outline"
   ]
  },
  {
   "cell_type": "markdown",
   "metadata": {},
   "source": [
    "####a) Definition of Indian Buffet Process (IBP)"
   ]
  },
  {
   "cell_type": "markdown",
   "metadata": {},
   "source": [
    "In the Indian buffet process, N customers enter a restaurant one after another. Each customer encounters a buffet consisting of infinitely many dishes arranged in a line. The first customer starts at the left of the buffet and takes a serving from each dish, stopping after a Poisson(α) number of dishes. The ith customer moves along the buffet, sampling dishes in proportion to their popularity, taking dish k with probability mk/i , where mk is the number of previous customers who have sampled that dish. Having reached the end of all previous sampled dishes, the ith customer then tries a Poisson(α/i) number of new dishes."
   ]
  },
  {
   "cell_type": "markdown",
   "metadata": {},
   "source": [
    "####b) Steps"
   ]
  },
  {
   "cell_type": "markdown",
   "metadata": {},
   "source": [
    "1) Start by defining a probability distribution over equivalence classes of binary matrices with a finite number of rows and an unbounded number of columns. This distribution is suitable for use as a prior in probabilistic models that represent objects using a potentially infinite array of features\n",
    "\n",
    "2) Next we see that the Indian Buffet Process is a simple generative process that results in the same distribution (as described in previous step) over equivalence classes because IBP has finite number of objects (people) and infinite number of features (dishes)\n",
    "\n",
    "3) We then define a Gibbs Sampler for models using this concept of IBP\n",
    "\n",
    "4) Further, to illustrate how IBP can be used as a prior in models for unsupervised learning, we derive and test a linear-Gaussian latent feature model in which the features are binary\n",
    "\n",
    "5) We start with a finite realization and then take the infinite limit"
   ]
  },
  {
   "cell_type": "markdown",
   "metadata": {
    "collapsed": false
   },
   "source": [
    "###2) Algorithm"
   ]
  },
  {
   "cell_type": "markdown",
   "metadata": {},
   "source": [
    "1) We use Gamma prior for $\\alpha$\n",
    "$$\n",
    "\\alpha \\sim Gamma(1,1)\n",
    "$$\\\\\n",
    "2) Prior on Z is obtained by IBP (after taking the infinite limit) as:\n",
    "$$\n",
    "P(z_{ik}=1|\\textbf{z}_{-i,k}) = \\frac{m_{-i,k}}{N}\n",
    "$$\n",
    "where ${z}_{-i,k}$ is the set of assignments of other objects, not including i, for feature k, and\n",
    "${m}_{-i,k}$ is the number of objects possessing feature k, not including i.\\\\\n",
    "3) Likelihood is given by\n",
    "\\begin{equation}\n",
    "P(X|Z,\\sigma_X,A) = \\frac{1}{(2 \\pi \\sigma_x^2)^{ND/2}}exp(-\\frac{1}{2\\sigma_X^2}tr((X-ZA)^T(X-ZA)))\n",
    "\\end{equation}\n",
    "where Z is the binary feature matrix and A is the weight matrix. $\\sigma_X$ and $\\sigma_A$ are the respective noise terms.\n",
    "Next, we integrate out A to get $P(X|Z,\\sigma_X,\\sigma_A)$.\\\\\n",
    "4) Using this likelihood and the prior given by IBP, full conditional posterior for Z can be calculated as:\n",
    "$$\n",
    "P(z_{ik}|X,Z_{-(i,k)},\\sigma_X,\\sigma_A) \\propto  P(X|Z,\\sigma_X,\\sigma_A) * P(z_{ik}=1|\\textbf{z}_{-i,k})\n",
    "$$\\\\\n",
    "5) Now, to sample the number of new features for observation $i$, we use a truncated distribution, computing probabilities for a range of values $K_1^{(i)}$ up to an upper bound. The prior on number of features is given by $Poisson(\\frac{\\alpha}{N})$.\n",
    "Using this prior and the likelihood, we sample the number of new features.\\\\\n",
    "6) Conditional posterior for $\\alpha$ is given by:\n",
    "$$\n",
    "P(\\alpha|Z) \\sim Gamma(1+K_+,1+\\sum_{i=1}^{N} H_i)\n",
    "$$\n",
    "where $H_N$ is the Nth harmonic number given by $H_N=\\sum_{j=1}^{N} 1/j$\\\\\n",
    "7) We now run the Gibbs Sampler using these full conditionals\\\\\n",
    "8) To update $\\sigma_X$ and $\\sigma_A$, we use MH algorithm as follows:\n",
    "\\begin{eqnarray}\n",
    "\\epsilon \\sim Uniform(-.05,.05)\\\\\n",
    "\\sigma_X^{*} =  \\sigma_X +\\epsilon\\\\\n",
    "\\sigma_A^{*} =  \\sigma_X +\\epsilon\\\\\n",
    "\\end{eqnarray}"
   ]
  },
  {
   "cell_type": "markdown",
   "metadata": {},
   "source": [
    "###3) Test cases"
   ]
  },
  {
   "cell_type": "markdown",
   "metadata": {},
   "source": [
    "1) All probabilities must be between 0 and 1 i.e. $0<=\\frac{m_{-i,k}}{N}<=1$\n",
    "\n",
    "2) Harmonic number must be positive i.e. $H_N>0$\n",
    "\n",
    "3) Trace plots should show convergence\n",
    "\n",
    "4) When using simulated data, parameters should converge close to their true values used to simulate the data. We can make test cases such that they check that difference between posterior mean and true value is less than a threshold"
   ]
  },
  {
   "cell_type": "markdown",
   "metadata": {
    "collapsed": true
   },
   "source": [
    "###4) Pseudocode"
   ]
  },
  {
   "cell_type": "code",
   "execution_count": null,
   "metadata": {
    "collapsed": false
   },
   "outputs": [],
   "source": [
    "#N = number of objects\n",
    "#K = current number of features with at least one object\n",
    " \n",
    "# define a likelihood function to be used multiple times later, try to implement it in C or at change to log likelihood\n",
    "def likelihood(X, Z, sigma_A, sigma_X, K):\n",
    "    pass\n",
    "    #calculated with the formula given above\n",
    " \n",
    "#update z\n",
    "for i in range(N):\n",
    "    for k in range(K):\n",
    "        #set Z[i,k] = 0 and calculate posterior probability\n",
    "        Z[i,k] = 0\n",
    "        p0 = likelihood(X, Z,sigma_x, sigma_A)*P(z_ik=1|z_(-i,k))\n",
    "        #set Z[i,k] = 1 and calculate posterior probability\n",
    "        Z[i,k] = 1\n",
    "        p1 = likelihood(X, Z,sigma_X, sigma_A)*P(z_ik=1|z_(-i,k))\n",
    "       \n",
    "        U = uniform(0,1)\n",
    "        if U<p1/(p0+p1):\n",
    "            Z[i,k] = 1\n",
    "        else:\n",
    "            Z[i,k] = 0\n",
    "           \n",
    "    #Sample number of new features\n",
    "    prob = numpy.zeros(4)\n",
    "    for k_new in range(3): # max new features is 4\n",
    "        Z_temp = Z\n",
    "        Z[i,K+1:K+k_new] = 1 # add appropriate columns to Z_temp and set all possible new features to 1       \n",
    "        prob[k_new] = poisson(k,alpha/N) * likelihood(Z_temp, K=K+k_new...)\n",
    "    #normalize prob\n",
    "    prob = prob/sum(prob)\n",
    "   \n",
    "    U = uniform(0,1)\n",
    "    p = 0\n",
    "    for k_new in range(3):\n",
    "        p = p+prob[k_new]\n",
    "        if U<p:\n",
    "            k_new_i = k_new\n",
    "            break\n",
    "    \n",
    "    #set all the added features as 1\n",
    "    #also change the size of z to reflect this change.\n",
    "    Z[i,k+1:k+k_new] = 1\n",
    "    K = K+k_new_i\n",
    " \n",
    "#update sigma_A\n",
    "eps = uniform(-.05,.05)\n",
    "sigma_X_new = sigma_X+eps\n",
    "likelihood_current = likelihood(sigma_X,...)\n",
    "likelihood_new = likelihood(sigma_X_new,...)\n",
    " \n",
    "AR_X = min(1,likelihood_new/likelihood_current)\n",
    " \n",
    "U = uniform(0,1)\n",
    "if U < AR_X:\n",
    "    sigma_X = sigma_X_new\n",
    "   \n",
    "    \n",
    "#update sigma_A\n",
    "eps = uniform(-.05,.05)\n",
    "sigma_A_new = sigma_A + eps\n",
    " \n",
    "likelihood_current = likelihood(sigma_A,...)\n",
    "likelihood_new = likelihood(sigma_A_new,...)\n",
    " \n",
    "AR_A = min(1,likelihood_new/likelihood_current)\n",
    " \n",
    "U = uniform(0,1)\n",
    "if U < AR_A:\n",
    "    sigma_A = sigma_A_new\n",
    " \n",
    "#update alpha\n",
    "alpha = sample_gamma(1+K, 1+harmonic_mean_N)      "
   ]
  },
  {
   "cell_type": "markdown",
   "metadata": {},
   "source": [
    "### 5) Final code"
   ]
  },
  {
   "cell_type": "code",
   "execution_count": 5,
   "metadata": {
    "collapsed": false
   },
   "outputs": [],
   "source": [
    "import numpy as np\n",
    "from __future__ import division\n",
    "import math\n",
    "import time as time"
   ]
  },
  {
   "cell_type": "markdown",
   "metadata": {},
   "source": [
    "####Initial simulated data"
   ]
  },
  {
   "cell_type": "code",
   "execution_count": 6,
   "metadata": {
    "collapsed": false
   },
   "outputs": [],
   "source": [
    "np.random.seed(1)\n",
    "\n",
    "A=np.array([[0,1,0,0,0,0,1,1,1,0,0,0,0,1,0,0,0,0,0,0,0,0,0,0,0,0,0,0,0,0,0,0,0,0,0,0],\n",
    "   [0,0,0,1,1,1,0,0,0,1,0,1,0,0,0,1,1,1,0,0,0,0,0,0,0,0,0,0,0,0,0,0,0,0,0,0],\n",
    "   [0,0,0,0,0,0,0,0,0,0,0,0,0,0,0,0,0,0,1,0,0,0,0,0,1,1,0,0,0,0,1,1,1,0,0,0],\n",
    "   [0,0,0,0,0,0,0,0,0,0,0,0,0,0,0,0,0,0,0,0,0,1,1,1,0,0,0,0,1,0,0,0,0,0,1,0]])\n",
    "\n",
    "num_objects=100\n",
    "object_dim=36\n",
    " \n",
    "sigma_x_orig=0.5\n",
    "\n",
    "I=sigma_x_orig*np.eye(object_dim)\n",
    "Z_orig=np.zeros((num_objects,4))\n",
    "\n",
    "X=np.zeros((num_objects,object_dim))\n",
    "\n",
    "for i in range(num_objects):\n",
    "    Z_orig[i,:]=(np.random.uniform(0,1,4)>0.5)\n",
    "    while sum(Z_orig[i,:])==0:\n",
    "        Z_orig[i,:]=(np.random.uniform(0,1,4)>0.5)\n",
    "    X[i,:]=np.dot(np.random.normal(0,1,object_dim),I)+np.dot(Z_orig[i,:],A)"
   ]
  },
  {
   "cell_type": "markdown",
   "metadata": {},
   "source": [
    "####IBP prior"
   ]
  },
  {
   "cell_type": "code",
   "execution_count": 7,
   "metadata": {
    "collapsed": true
   },
   "outputs": [],
   "source": [
    "np.random.seed(1)\n",
    "def sampleIBP(alpha, num_objects):\n",
    "    result=np.zeros((num_objects, 1000))\n",
    "    t=np.random.poisson(alpha)\n",
    "    result[0,0:t]=np.ones(t)\n",
    "    K_plus=t\n",
    "    p=np.array((0,0))\n",
    "    for i in range(2, num_objects+1):\n",
    "        for j in range(K_plus):\n",
    "            p[0]=np.log(sum(result[0:i,j]))-np.log(i) \n",
    "            p[1]=np.log(i - sum(result[0:i,j])) - np.log(i)\n",
    "            p = np.exp(p-max(p))\n",
    "            if np.random.uniform(0,1,1)<(p[0]/sum(p)):\n",
    "                result[i-1,j]=1\n",
    "            else:\n",
    "                result[i-1,j]=0\n",
    "        t=np.random.poisson(alpha/i)\n",
    "        result[i-1,K_plus:K_plus+t]=np.ones(t)\n",
    "        K_plus=K_plus+t\n",
    "    \n",
    "    result=result[:,0:K_plus]\n",
    "    return(result,K_plus)          "
   ]
  },
  {
   "cell_type": "code",
   "execution_count": 8,
   "metadata": {
    "collapsed": true
   },
   "outputs": [],
   "source": [
    "np.random.seed(1)\n",
    "\n",
    "def calcInverse(Zn,M,i,k,val):\n",
    "    M_i = M-np.dot(np.dot(np.dot(M,Zn[i,:].T),Zn[i,:]),M)/(np.dot(np.dot(Zn[i,:],M),Zn[i,:].T)-1)\n",
    "    Zn[i,k] = val\n",
    "    M = M_i-np.dot(np.dot(np.dot(M_i,Zn[i,:].T),Zn[i,:]),M_i)/(np.dot(np.dot(Zn[i,:],M_i),Zn[i,:].T)+1)\n",
    "    Inv = M\n",
    "    return Inv"
   ]
  },
  {
   "cell_type": "markdown",
   "metadata": {},
   "source": [
    "####Likelihood function and its profiling"
   ]
  },
  {
   "cell_type": "code",
   "execution_count": 31,
   "metadata": {
    "collapsed": false
   },
   "outputs": [],
   "source": [
    "np.random.seed(1)\n",
    "\n",
    "def likelihood_old(X, Z, M, sigma_A, sigma_X, K_plus, num_objects, object_dim):\n",
    "    log_ll=(-1)*num_objects*object_dim*0.5*np.log(2*np.pi)-1*(num_objects-K_plus)*object_dim*np.log(sigma_X)-K_plus*object_dim*np.log(sigma_A)-object_dim*(0.5)*np.log(np.linalg.det((np.dot(Z.T,Z) + np.dot((sigma_X**2/sigma_A**2),np.eye(K_plus)))))+(-1/(2*sigma_X**2))*np.trace(np.dot(np.dot(X.T,(np.eye(num_objects)-np.dot(np.dot(Z,M),Z.T))),X))\n",
    "    return log_ll"
   ]
  },
  {
   "cell_type": "code",
   "execution_count": 32,
   "metadata": {
    "collapsed": true
   },
   "outputs": [],
   "source": [
    "def likelihood(X, Z, M, sigma_A, sigma_X, K_plus, num_objects, object_dim):\n",
    "    M1 = (np.dot(Z.T,Z) + np.dot((sigma_X**2/sigma_A**2),np.eye(K_plus)))\n",
    "    log_ll=(-1)*num_objects*object_dim*0.5*np.log(2*np.pi)-1*(num_objects-K_plus)*object_dim*np.log(sigma_X)-K_plus*object_dim*np.log(sigma_A)-object_dim*(0.5)*np.log(np.linalg.det(M1))+(-1/(2*sigma_X**2))*np.trace(np.dot(np.dot(X.T,(np.eye(num_objects)-np.dot(np.dot(Z,np.linalg.inv(M1)),Z.T))),X))\n",
    "    return log_ll"
   ]
  },
  {
   "cell_type": "code",
   "execution_count": 33,
   "metadata": {
    "collapsed": false,
    "scrolled": true
   },
   "outputs": [],
   "source": [
    "sigma_A=1.\n",
    "sigma_X=1.\n",
    "alpha=1.\n",
    "\n",
    "sam=sampleIBP(alpha,num_objects)\n",
    "Z=sam[0]\n",
    "K_plus=sam[1]\n",
    "\n",
    "M1=np.linalg.inv((np.dot(Z[:,0:K_plus].T,Z[:,0:K_plus]) + np.dot(((sigma_X)**2/(sigma_A)**2),np.eye(K_plus))))\n",
    "M2=np.linalg.inv((np.dot(Z[:,0:K_plus].T,Z[:,0:K_plus]) + np.dot(((sigma_X)**2/(sigma_A)**2),np.eye(K_plus))))\n",
    "M=np.linalg.inv((np.dot(Z[:,0:K_plus].T,Z[:,0:K_plus]) + np.dot(((sigma_X)**2/(sigma_A)**2),np.eye(K_plus))))"
   ]
  },
  {
   "cell_type": "code",
   "execution_count": 34,
   "metadata": {
    "collapsed": false
   },
   "outputs": [
    {
     "name": "stdout",
     "output_type": "stream",
     "text": [
      "0.162477016449\n",
      "0.146997928619\n"
     ]
    }
   ],
   "source": [
    "import timeit\n",
    "\n",
    "start = timeit.default_timer()\n",
    "for i in range(1000):\n",
    "    likelihood_old(X, Z[:,0:K_plus], M1, sigma_A, sigma_X, K_plus, num_objects, object_dim)\n",
    "elapsed = timeit.default_timer() - start\n",
    "print elapsed\n",
    "\n",
    "start = timeit.default_timer()\n",
    "for i in range(1000):\n",
    "    likelihood(X, Z[:,0:K_plus], M1, sigma_A, sigma_X, K_plus, num_objects, object_dim)\n",
    "elapsed = timeit.default_timer() - start\n",
    "print elapsed"
   ]
  },
  {
   "cell_type": "markdown",
   "metadata": {},
   "source": [
    "####Gibbs Sampler and MH (with timing)"
   ]
  },
  {
   "cell_type": "code",
   "execution_count": 13,
   "metadata": {
    "collapsed": false,
    "scrolled": false
   },
   "outputs": [],
   "source": [
    "np.random.seed(1)\n",
    "\n",
    "def sampler(X, E, BURN_IN, SAMPLE_SIZE, sigma_A, sigma_X, alpha, object_dim, num_objects):\n",
    "    HN=0.0\n",
    "    for i in range(1,num_objects+1): #check indices\n",
    "        HN=HN+1.0/i\n",
    "\n",
    "    K_inf=20\n",
    "\n",
    "    sam=sampleIBP(alpha,num_objects)\n",
    "\n",
    "    Z=sam[0]\n",
    "    K_plus=sam[1]\n",
    "\n",
    "    chain_Z=np.zeros((SAMPLE_SIZE,num_objects,K_inf))\n",
    "    chain_K=np.zeros((SAMPLE_SIZE,1))\n",
    "    chain_sigma_X=np.zeros((SAMPLE_SIZE,1))\n",
    "    chain_sigma_A=np.zeros((SAMPLE_SIZE,1))\n",
    "    chain_alpha=np.zeros((SAMPLE_SIZE,1))\n",
    "\n",
    "    s_counter=0\n",
    "    for e in range(E):\n",
    "        print e, K_plus, alpha\n",
    "        if((e+1)>BURN_IN):\n",
    "            chain_Z[s_counter,:,0:K_plus]=Z[:,0:K_plus]\n",
    "            chain_K[s_counter]=K_plus\n",
    "            chain_sigma_X[s_counter]=sigma_X\n",
    "            chain_sigma_A[s_counter]=sigma_A\n",
    "            chain_alpha[s_counter]=alpha\n",
    "            s_counter=s_counter+1\n",
    "\n",
    "        for i in range(num_objects):\n",
    "            #M=np.linalg.inv((np.dot(Z[:,0:K_plus].T,Z[:,0:K_plus]) + np.dot(((sigma_X)**2/(sigma_A)**2),np.eye(K_plus))))\n",
    "            for k in range(K_plus):\n",
    "                if (k+1)>K_plus: #doubt\n",
    "                    break\n",
    "                if Z[i,k]>0:\n",
    "                    if (sum(Z[:,k]) - Z[i,k])<=0:\n",
    "                        Z[i,k]=0\n",
    "                        Z[:,k:(K_plus-1)] = Z[:,(k+1):K_plus] #doubt in indices\n",
    "                        K_plus = K_plus-1\n",
    "                        #Z[:,K_plus]=0\n",
    "                        #M=np.linalg.inv((np.dot(Z[:,0:K_plus].T,Z[:,0:K_plus]) + np.dot(((sigma_X)**2/(sigma_A)**2),np.eye(K_plus))))\n",
    "                        continue\n",
    "                #M1 = calcInverse(Z[:,0:K_plus], M, i, k, 1) #some shit\n",
    "                #M2 = calcInverse(Z[:,0:K_plus], M, i, k, 0) #some shit\n",
    "\n",
    "                P=np.array([0,0])\n",
    "\n",
    "                Z[i,k]=1\n",
    "                #M1=np.linalg.inv((np.dot(Z[:,0:K_plus].T,Z[:,0:K_plus]) + np.dot(((sigma_X)**2/(sigma_A)**2),np.eye(K_plus))))\n",
    "                P[0]=likelihood(X, Z[:,0:K_plus], M1, sigma_A, sigma_X, K_plus, num_objects, object_dim) + np.log(sum(Z[:,k])- Z[i,k]) -np.log(num_objects)\n",
    "\n",
    "                Z[i,k]=0\n",
    "                #M2=np.linalg.inv((np.dot(Z[:,0:K_plus].T,Z[:,0:K_plus]) + np.dot(((sigma_X)**2/(sigma_A)**2),np.eye(K_plus))))\n",
    "                P[1]=likelihood(X, Z[:,0:K_plus], M2, sigma_A, sigma_X, K_plus, num_objects, object_dim) + np.log(num_objects - sum(Z[:,k])) -np.log(num_objects)\n",
    "\n",
    "                P=np.exp(P - max(P))\n",
    "\n",
    "                if np.random.uniform(0,1,1)<(P[0]/(P[0]+P[1])):\n",
    "                    Z[i,k] = 1\n",
    "                    M = M1\n",
    "                else:\n",
    "                    Z[i,k] = 0\n",
    "                    M = M2\n",
    "\n",
    "            trun=np.zeros(5) #try 4\n",
    "            alpha_N = alpha/num_objects\n",
    "\n",
    "            for k_i in range(5):\n",
    "                if Z.shape[1]>(K_plus+k_i):\n",
    "                    #Z[:,K_plus:(K_plus+k_i)]=0 #added later\n",
    "                    Z[i,K_plus:(K_plus+k_i)]=1       \n",
    "                else:\n",
    "                    Ztemp=np.zeros((Z.shape[0],K_plus+k_i))\n",
    "                    Ztemp[0:Z.shape[0],0:Z.shape[1]]=Z\n",
    "                    #Ztemp[:,K_plus:(K_plus+k_i)] = 0 #added later\n",
    "                    Ztemp[i,K_plus:(K_plus+k_i)] = 1\n",
    "                    Z=Ztemp\n",
    "                #doubt in indices\n",
    "                #M=np.linalg.inv((np.dot(Z[:,0:(K_plus+k_i)].T,Z[:,0:(K_plus+k_i)]) + np.dot(((sigma_X)**2/(sigma_A)**2),np.eye((K_plus+k_i)))))\n",
    "                trun[k_i] = k_i*np.log(alpha_N) - alpha_N - np.log(math.factorial(k_i)) + likelihood(X, Z[:,0:(K_plus+k_i)], M, sigma_A, sigma_X, K_plus+k_i, num_objects, object_dim)\n",
    "\n",
    "            Z[i,K_plus:K_plus+4] = 0 #check indices\n",
    "            trun = np.exp(trun - max(trun))\n",
    "            trun = trun/sum(trun)\n",
    "            p = np.random.uniform(0,1,1)\n",
    "            t = 0\n",
    "            #new_dishes=0\n",
    "            for k_i in range(5):\n",
    "                t = t+trun[k_i]\n",
    "                if p<t:\n",
    "                    new_dishes = k_i\n",
    "                    break\n",
    "            if Z.shape[1]>(K_plus+new_dishes):\n",
    "                Ztemp=Z\n",
    "                #Ztemp[:,K_plus:(K_plus+new_dishes)]=0 #added later\n",
    "                Ztemp[i,K_plus:(K_plus+new_dishes)]=1       \n",
    "            else:\n",
    "                Ztemp=np.zeros((Z.shape[0],K_plus+new_dishes))\n",
    "                Ztemp[0:Z.shape[0],0:Z.shape[1]]=Z\n",
    "                #Ztemp[:,K_plus:(K_plus+new_dishes)] = 0 #added later\n",
    "                Ztemp[i,K_plus:(K_plus+new_dishes)] = 1\n",
    "\n",
    "            #Ztemp=np.zeros((Z.shape[0],K_plus+new_dishes))\n",
    "            #Ztemp[0:Z.shape[0],0:Z.shape[1]]=Z\n",
    "            #Ztemp[i,K_plus:K_plus+new_dishes] = 1\n",
    "            Z=Ztemp\n",
    "            K_plus = K_plus + new_dishes\n",
    "\n",
    "        #M=np.linalg.inv((np.dot(Z[:,0:K_plus+new_dishes].T,Z[:,0:K_plus+new_dishes]) + np.dot(((sigma_X)**2/(sigma_A)**2),np.eye(K_plus+new_dishes))))\n",
    "        l_curr=likelihood(X, Z[:,0:(K_plus+new_dishes)], M, sigma_A, sigma_X, K_plus+new_dishes, num_objects, object_dim)\n",
    "        if np.random.uniform(0,1,1)<.5:\n",
    "            pr_sigma_X=sigma_X-np.random.uniform(0,1,1)/20\n",
    "        else:\n",
    "            pr_sigma_X=sigma_X+np.random.uniform(0,1,1)/20\n",
    "\n",
    "        #M=np.linalg.inv((np.dot(Z[:,0:K_plus+new_dishes].T,Z[:,0:K_plus+new_dishes]) + np.dot(((pr_sigma_X[0])**2/(sigma_A)**2),np.eye(K_plus+new_dishes))))\n",
    "        l_new_X=likelihood(X, Z[:,0:(K_plus+new_dishes)], M, sigma_A, pr_sigma_X[0], K_plus+new_dishes, num_objects, object_dim)\n",
    "        acc_X=np.exp(min(0,l_new_X-l_curr))\n",
    "\n",
    "        if np.random.uniform(0,1,1)<.5:\n",
    "            pr_sigma_A=sigma_A-np.random.uniform(0,1,1)/20\n",
    "        else:\n",
    "            pr_sigma_A=sigma_A+np.random.uniform(0,1,1)/20\n",
    "\n",
    "        #M=np.linalg.inv((np.dot(Z[:,0:K_plus+new_dishes].T,Z[:,0:K_plus+new_dishes]) + np.dot(((sigma_X)**2/(pr_sigma_A[0])**2),np.eye(K_plus+new_dishes))))\n",
    "        l_new_A=likelihood(X, Z[:,0:(K_plus+new_dishes)], M, pr_sigma_A[0], sigma_X, K_plus+new_dishes, num_objects, object_dim)\n",
    "        acc_A=np.exp(min(0,l_new_A-l_curr))\n",
    "\n",
    "        if np.random.uniform(0,1,1)<acc_X:\n",
    "            sigma_X=pr_sigma_X[0]\n",
    "\n",
    "        if np.random.uniform(0,1,1)<acc_A:\n",
    "            sigma_A=pr_sigma_A[0]\n",
    "\n",
    "        alpha = np.random.gamma(1+K_plus, 1/(1+HN))\n",
    "    \n",
    "    return(chain_Z, chain_K, chain_sigma_A, chain_sigma_X, chain_alpha, Z)\n",
    "#removed K_plus + new_dishes from MH"
   ]
  },
  {
   "cell_type": "code",
   "execution_count": 80,
   "metadata": {
    "collapsed": false
   },
   "outputs": [],
   "source": [
    "from __future__ import division\n",
    "np.random.seed(1)\n",
    "\n",
    "E=1000 #change to 1000\n",
    "BURN_IN=0\n",
    "SAMPLE_SIZE=E-BURN_IN\n",
    "\n",
    "sigma_A=1.\n",
    "sigma_X=1.\n",
    "alpha=1.\n",
    "\n",
    "t0 = time.time()\n",
    "#chain_Z, chain_K, chain_sigma_A, chain_sigma_X, chain_alpha, Z=sampler(X, E, BURN_IN, SAMPLE_SIZE, sigma_A, sigma_X, alpha, object_dim, num_objects)\n",
    "t1 = time.time()\n",
    "total=t1-t0"
   ]
  },
  {
   "cell_type": "code",
   "execution_count": null,
   "metadata": {
    "collapsed": false
   },
   "outputs": [],
   "source": [
    "%timeit sampler(X, E, BURN_IN, SAMPLE_SIZE, sigma_A, sigma_X, alpha, object_dim, num_objects)"
   ]
  },
  {
   "cell_type": "code",
   "execution_count": 34,
   "metadata": {
    "collapsed": false
   },
   "outputs": [
    {
     "name": "stdout",
     "output_type": "stream",
     "text": [
      "The line_profiler extension is already loaded. To reload it, use:\n",
      "  %reload_ext line_profiler\n"
     ]
    }
   ],
   "source": [
    "%load_ext line_profiler"
   ]
  },
  {
   "cell_type": "code",
   "execution_count": 87,
   "metadata": {
    "collapsed": false
   },
   "outputs": [
    {
     "name": "stdout",
     "output_type": "stream",
     "text": [
      "0 4 1.0\n",
      "1 2 0.126674053442\n",
      "2 1 0.0702021687993\n",
      "3 1 0.477594379014\n",
      "4 1 0.500702351241\n",
      "5 1 0.8576840553\n",
      "6 1 0.0488551635105\n",
      "7 1 0.0406054546334\n",
      "8 1 0.191544037014\n",
      "9 1 0.423824093922\n",
      "10 1 0.753739347057\n",
      "11 1 0.582531987418\n",
      "12 1 0.423537545384\n",
      "13 1 0.590489628448\n",
      "14 1 0.286807085925\n",
      "15 1 0.386346737496\n",
      "16 1 0.480085500544\n",
      "17 1 0.034427674012\n",
      "18 1 0.498920080433\n",
      "19 1 0.136164195278\n",
      "20 1 0.334247521492\n",
      "21 1 0.498673196439\n",
      "22 1 1.0668677298\n",
      "23 1 0.160792297522\n",
      "24 1 0.530825752708\n",
      "25 1 0.0557318909164\n",
      "*** KeyboardInterrupt exception caught in code being profiled."
     ]
    }
   ],
   "source": [
    "lstats = %lprun -r -f sampler sampler(X, E, BURN_IN, SAMPLE_SIZE, sigma_A, sigma_X, alpha, object_dim, num_objects)"
   ]
  },
  {
   "cell_type": "code",
   "execution_count": 86,
   "metadata": {
    "collapsed": false
   },
   "outputs": [
    {
     "name": "stdout",
     "output_type": "stream",
     "text": [
      "Timer unit: 1e-06 s\n",
      "\n",
      "Total time: 8.16282 s\n",
      "File: <ipython-input-19-5b64a3c9505b>\n",
      "Function: sampler at line 3\n",
      "\n",
      "Line #      Hits         Time  Per Hit   % Time  Line Contents\n",
      "==============================================================\n",
      "     3                                           def sampler(X, E, BURN_IN, SAMPLE_SIZE, sigma_A, sigma_X, alpha, object_dim, num_objects):\n",
      "     4         1            2      2.0      0.0      HN=0.0\n",
      "     5       101          154      1.5      0.0      for i in range(1,num_objects+1): #check indices\n",
      "     6       100          173      1.7      0.0          HN=HN+1.0/i\n",
      "     7                                           \n",
      "     8         1            2      2.0      0.0      K_inf=20\n",
      "     9                                           \n",
      "    10         1         9855   9855.0      0.1      sam=sampleIBP(alpha,num_objects)\n",
      "    11                                           \n",
      "    12         1            3      3.0      0.0      Z=sam[0]\n",
      "    13         1            2      2.0      0.0      K_plus=sam[1]\n",
      "    14                                           \n",
      "    15         1         7808   7808.0      0.1      chain_Z=np.zeros((SAMPLE_SIZE,num_objects,K_inf))\n",
      "    16         1           10     10.0      0.0      chain_K=np.zeros((SAMPLE_SIZE,1))\n",
      "    17         1            5      5.0      0.0      chain_sigma_X=np.zeros((SAMPLE_SIZE,1))\n",
      "    18         1            4      4.0      0.0      chain_sigma_A=np.zeros((SAMPLE_SIZE,1))\n",
      "    19         1            3      3.0      0.0      chain_alpha=np.zeros((SAMPLE_SIZE,1))\n",
      "    20                                           \n",
      "    21         1            2      2.0      0.0      s_counter=0\n",
      "    22        40           77      1.9      0.0      for e in range(E):\n",
      "    23        40        26000    650.0      0.3          print e, K_plus, alpha\n",
      "    24        40           90      2.2      0.0          if((e+1)>BURN_IN):\n",
      "    25        40          479     12.0      0.0              chain_Z[s_counter,:,0:K_plus]=Z[:,0:K_plus]\n",
      "    26        40          144      3.6      0.0              chain_K[s_counter]=K_plus\n",
      "    27        40          144      3.6      0.0              chain_sigma_X[s_counter]=sigma_X\n",
      "    28        40           88      2.2      0.0              chain_sigma_A[s_counter]=sigma_A\n",
      "    29        40           91      2.3      0.0              chain_alpha[s_counter]=alpha\n",
      "    30        40           58      1.4      0.0              s_counter=s_counter+1\n",
      "    31                                           \n",
      "    32      4014         5468      1.4      0.1          for i in range(num_objects):\n",
      "    33                                                       #M=np.linalg.inv((np.dot(Z[:,0:K_plus].T,Z[:,0:K_plus]) + np.dot(((sigma_X)**2/(sigma_A)**2),np.eye(K_plus))))\n",
      "    34      8620        17740      2.1      0.2              for k in range(K_plus):\n",
      "    35      4645         6270      1.3      0.1                  if (k+1)>K_plus: #doubt\n",
      "    36                                                               break\n",
      "    37      4645        11962      2.6      0.1                  if Z[i,k]>0:\n",
      "    38      3530        60769     17.2      0.7                      if (sum(Z[:,k]) - Z[i,k])<=0:\n",
      "    39         3            5      1.7      0.0                          Z[i,k]=0\n",
      "    40         3           10      3.3      0.0                          Z[:,k:(K_plus-1)] = Z[:,(k+1):K_plus] #doubt in indices\n",
      "    41         3            4      1.3      0.0                          K_plus = K_plus-1\n",
      "    42                                                                   #Z[:,K_plus]=0\n",
      "    43                                                                   #M=np.linalg.inv((np.dot(Z[:,0:K_plus].T,Z[:,0:K_plus]) + np.dot(((sigma_X)**2/(sigma_A)**2),np.eye(K_plus))))\n",
      "    44         3            4      1.3      0.0                          continue\n",
      "    45                                                           #M1 = calcInverse(Z[:,0:K_plus], M, i, k, 1) #some shit\n",
      "    46                                                           #M2 = calcInverse(Z[:,0:K_plus], M, i, k, 0) #some shit\n",
      "    47                                           \n",
      "    48      4642        27126      5.8      0.3                  P=np.array([0,0])\n",
      "    49                                           \n",
      "    50      4642         7760      1.7      0.1                  Z[i,k]=1\n",
      "    51      4642       273278     58.9      3.3                  M1=np.linalg.inv((np.dot(Z[:,0:K_plus].T,Z[:,0:K_plus]) + np.dot(((sigma_X)**2/(sigma_A)**2),np.eye(K_plus))))\n",
      "    52      4642       968203    208.6     11.9                  P[0]=likelihood(X, Z[:,0:K_plus], M1, sigma_A, sigma_X, K_plus, num_objects, object_dim) + np.log(sum(Z[:,k])- Z[i,k]) -np.log(num_objects)\n",
      "    53                                           \n",
      "    54      4642        10023      2.2      0.1                  Z[i,k]=0\n",
      "    55      4642       255888     55.1      3.1                  M2=np.linalg.inv((np.dot(Z[:,0:K_plus].T,Z[:,0:K_plus]) + np.dot(((sigma_X)**2/(sigma_A)**2),np.eye(K_plus))))\n",
      "    56      4642       931969    200.8     11.4                  P[1]=likelihood(X, Z[:,0:K_plus], M2, sigma_A, sigma_X, K_plus, num_objects, object_dim) + np.log(num_objects - sum(Z[:,k])) -np.log(num_objects)\n",
      "    57                                           \n",
      "    58      4642        53591     11.5      0.7                  P=np.exp(P - max(P))\n",
      "    59                                           \n",
      "    60      4642        64192     13.8      0.8                  if np.random.uniform(0,1,1)<(P[0]/(P[0]+P[1])):\n",
      "    61      3600         6305      1.8      0.1                      Z[i,k] = 1\n",
      "    62      3600         6363      1.8      0.1                      M = M1\n",
      "    63                                                           else:\n",
      "    64      1042         1864      1.8      0.0                      Z[i,k] = 0\n",
      "    65      1042         1739      1.7      0.0                      M = M2\n",
      "    66                                           \n",
      "    67      3975        13856      3.5      0.2              trun=np.zeros(5) #try 4\n",
      "    68      3975         6447      1.6      0.1              alpha_N = alpha/num_objects\n",
      "    69                                           \n",
      "    70     23846        50916      2.1      0.6              for k_i in range(5):\n",
      "    71     19872        40739      2.1      0.5                  if Z.shape[1]>(K_plus+k_i):\n",
      "    72                                                               #Z[:,K_plus:(K_plus+k_i)]=0 #added later\n",
      "    73     19771        68909      3.5      0.8                      Z[i,K_plus:(K_plus+k_i)]=1       \n",
      "    74                                                           else:\n",
      "    75       101          387      3.8      0.0                      Ztemp=np.zeros((Z.shape[0],K_plus+k_i))\n",
      "    76       101          386      3.8      0.0                      Ztemp[0:Z.shape[0],0:Z.shape[1]]=Z\n",
      "    77                                                               #Ztemp[:,K_plus:(K_plus+k_i)] = 0 #added later\n",
      "    78       101          312      3.1      0.0                      Ztemp[i,K_plus:(K_plus+k_i)] = 1\n",
      "    79       101          149      1.5      0.0                      Z=Ztemp\n",
      "    80                                                           #doubt in indices\n",
      "    81     19872      1159534     58.4     14.2                  M=np.linalg.inv((np.dot(Z[:,0:(K_plus+k_i)].T,Z[:,0:(K_plus+k_i)]) + np.dot(((sigma_X)**2/(sigma_A)**2),np.eye((K_plus+k_i)))))\n",
      "    82     19872      3793402    190.9     46.5                  trun[k_i] = k_i*np.log(alpha_N) - alpha_N - np.log(math.factorial(k_i)) + likelihood(X, Z[:,0:(K_plus+k_i)], M, sigma_A, sigma_X, K_plus+k_i, num_objects, object_dim)\n",
      "    83                                           \n",
      "    84      3974        15220      3.8      0.2              Z[i,K_plus:K_plus+4] = 0 #check indices\n",
      "    85      3974        62231     15.7      0.8              trun = np.exp(trun - max(trun))\n",
      "    86      3974        36568      9.2      0.4              trun = trun/sum(trun)\n",
      "    87      3974        39321      9.9      0.5              p = np.random.uniform(0,1,1)\n",
      "    88      3974         5449      1.4      0.1              t = 0\n",
      "    89                                                       #new_dishes=0\n",
      "    90      3975        11074      2.8      0.1              for k_i in range(5):\n",
      "    91      3975         9928      2.5      0.1                  t = t+trun[k_i]\n",
      "    92      3975        18694      4.7      0.2                  if p<t:\n",
      "    93      3974         4807      1.2      0.1                      new_dishes = k_i\n",
      "    94      3974         6913      1.7      0.1                      break\n",
      "    95      3974         8205      2.1      0.1              if Z.shape[1]>(K_plus+new_dishes):\n",
      "    96      3974         4723      1.2      0.1                  Ztemp=Z\n",
      "    97                                                           #Ztemp[:,K_plus:(K_plus+new_dishes)]=0 #added later\n",
      "    98      3974        12509      3.1      0.2                  Ztemp[i,K_plus:(K_plus+new_dishes)]=1       \n",
      "    99                                                       else:\n",
      "   100                                                           Ztemp=np.zeros((Z.shape[0],K_plus+new_dishes))\n",
      "   101                                                           Ztemp[0:Z.shape[0],0:Z.shape[1]]=Z\n",
      "   102                                                           #Ztemp[:,K_plus:(K_plus+new_dishes)] = 0 #added later\n",
      "   103                                                           Ztemp[i,K_plus:(K_plus+new_dishes)] = 1\n",
      "   104                                           \n",
      "   105                                                       #Ztemp=np.zeros((Z.shape[0],K_plus+new_dishes))\n",
      "   106                                                       #Ztemp[0:Z.shape[0],0:Z.shape[1]]=Z\n",
      "   107                                                       #Ztemp[i,K_plus:K_plus+new_dishes] = 1\n",
      "   108      3974         4694      1.2      0.1              Z=Ztemp\n",
      "   109      3974         4988      1.3      0.1              K_plus = K_plus + new_dishes\n",
      "   110                                           \n",
      "   111        39         1800     46.2      0.0          M=np.linalg.inv((np.dot(Z[:,0:K_plus+new_dishes].T,Z[:,0:K_plus+new_dishes]) + np.dot(((sigma_X)**2/(sigma_A)**2),np.eye(K_plus+new_dishes))))\n",
      "   112        39         6068    155.6      0.1          l_curr=likelihood(X, Z[:,0:(K_plus+new_dishes)], M, sigma_A, sigma_X, K_plus+new_dishes, num_objects, object_dim)\n",
      "   113        39          422     10.8      0.0          if np.random.uniform(0,1,1)<.5:\n",
      "   114        25          270     10.8      0.0              pr_sigma_X=sigma_X-np.random.uniform(0,1,1)/20\n",
      "   115                                                   else:\n",
      "   116        14          142     10.1      0.0              pr_sigma_X=sigma_X+np.random.uniform(0,1,1)/20\n",
      "   117                                           \n",
      "   118        39         1781     45.7      0.0          M=np.linalg.inv((np.dot(Z[:,0:K_plus+new_dishes].T,Z[:,0:K_plus+new_dishes]) + np.dot(((pr_sigma_X[0])**2/(sigma_A)**2),np.eye(K_plus+new_dishes))))\n",
      "   119        39         5991    153.6      0.1          l_new_X=likelihood(X, Z[:,0:(K_plus+new_dishes)], M, sigma_A, pr_sigma_X[0], K_plus+new_dishes, num_objects, object_dim)\n",
      "   120        39          236      6.1      0.0          acc_X=np.exp(min(0,l_new_X-l_curr))\n",
      "   121                                           \n",
      "   122        39          385      9.9      0.0          if np.random.uniform(0,1,1)<.5:\n",
      "   123        22          205      9.3      0.0              pr_sigma_A=sigma_A-np.random.uniform(0,1,1)/20\n",
      "   124                                                   else:\n",
      "   125        17          184     10.8      0.0              pr_sigma_A=sigma_A+np.random.uniform(0,1,1)/20\n",
      "   126                                           \n",
      "   127        39         1867     47.9      0.0          M=np.linalg.inv((np.dot(Z[:,0:K_plus+new_dishes].T,Z[:,0:K_plus+new_dishes]) + np.dot(((sigma_X)**2/(pr_sigma_A[0])**2),np.eye(K_plus+new_dishes))))\n",
      "   128        39         6245    160.1      0.1          l_new_A=likelihood(X, Z[:,0:(K_plus+new_dishes)], M, pr_sigma_A[0], sigma_X, K_plus+new_dishes, num_objects, object_dim)\n",
      "   129        39          239      6.1      0.0          acc_A=np.exp(min(0,l_new_A-l_curr))\n",
      "   130                                           \n",
      "   131        39          432     11.1      0.0          if np.random.uniform(0,1,1)<acc_X:\n",
      "   132        20           41      2.0      0.0              sigma_X=pr_sigma_X[0]\n",
      "   133                                           \n",
      "   134        39          232      5.9      0.0          if np.random.uniform(0,1,1)<acc_A:\n",
      "   135        29           48      1.7      0.0              sigma_A=pr_sigma_A[0]\n",
      "   136                                           \n",
      "   137        39          148      3.8      0.0          alpha = np.random.gamma(1+K_plus, 1/(1+HN))\n",
      "   138                                               \n",
      "   139                                               return(chain_Z, chain_K, chain_sigma_A, chain_sigma_X, chain_alpha, Z)\n",
      "\n"
     ]
    }
   ],
   "source": [
    "lstats.print_stats()"
   ]
  },
  {
   "cell_type": "markdown",
   "metadata": {},
   "source": [
    "###6) Results "
   ]
  },
  {
   "cell_type": "markdown",
   "metadata": {},
   "source": [
    "####Total time taken "
   ]
  },
  {
   "cell_type": "code",
   "execution_count": 15,
   "metadata": {
    "collapsed": false
   },
   "outputs": [
    {
     "data": {
      "text/plain": [
       "299.7631981372833"
      ]
     },
     "execution_count": 15,
     "metadata": {},
     "output_type": "execute_result"
    }
   ],
   "source": [
    "total"
   ]
  },
  {
   "cell_type": "markdown",
   "metadata": {},
   "source": [
    "####Images"
   ]
  },
  {
   "cell_type": "code",
   "execution_count": 19,
   "metadata": {
    "collapsed": true
   },
   "outputs": [],
   "source": [
    "import matplotlib.pyplot as plt\n",
    "import matplotlib.cm as cm\n",
    "import numpy.testing as npt\n",
    "%matplotlib inline\n",
    "%precision 4\n",
    "plt.style.use('ggplot')"
   ]
  },
  {
   "cell_type": "code",
   "execution_count": 51,
   "metadata": {
    "collapsed": false
   },
   "outputs": [
    {
     "data": {
      "text/plain": [
       "(array([ 0.   ,  0.052,  0.009,  0.002,  0.297,  0.372,  0.199,  0.057,\n",
       "         0.011,  0.001,  0.   ]),\n",
       " array([ 0,  1,  2,  3,  4,  5,  6,  7,  8,  9, 10, 11]),\n",
       " <a list of 11 Patch objects>)"
      ]
     },
     "execution_count": 51,
     "metadata": {},
     "output_type": "execute_result"
    },
    {
     "data": {
      "image/png": "[encoded data removed]",
      "text/plain": [
       "<matplotlib.figure.Figure at 0x10b0e0950>"
      ]
     },
     "metadata": {},
     "output_type": "display_data"
    }
   ],
   "source": [
    "plt.hist(chain_K,bins=range(12),normed=True)"
   ]
  },
  {
   "cell_type": "code",
   "execution_count": 49,
   "metadata": {
    "collapsed": false
   },
   "outputs": [
    {
     "data": {
      "text/plain": [
       "(array([ 0.  ,  0.13,  0.53,  0.3 ,  0.04,  0.  ,  0.  ,  0.  ,  0.  ]),\n",
       " array([0, 1, 2, 3, 4, 5, 6, 7, 8, 9]),\n",
       " <a list of 9 Patch objects>)"
      ]
     },
     "execution_count": 49,
     "metadata": {},
     "output_type": "execute_result"
    },
    {
     "data": {
      "image/png": "[encoded data removed]",
      "text/plain": [
       "<matplotlib.figure.Figure at 0x109278650>"
      ]
     },
     "metadata": {},
     "output_type": "display_data"
    }
   ],
   "source": [
    "m=np.mean(chain_Z, axis=0)\n",
    "plt.hist(np.ceil(np.sum(m,axis=1)),bins=range(10),normed=True)"
   ]
  },
  {
   "cell_type": "code",
   "execution_count": 21,
   "metadata": {
    "collapsed": false
   },
   "outputs": [
    {
     "data": {
      "text/plain": [
       "<matplotlib.collections.QuadMesh at 0x10862f3d0>"
      ]
     },
     "execution_count": 21,
     "metadata": {},
     "output_type": "execute_result"
    },
    {
     "data": {
      "image/png": "[encoded data removed]",
      "text/plain": [
       "<matplotlib.figure.Figure at 0x10828e110>"
      ]
     },
     "metadata": {},
     "output_type": "display_data"
    }
   ],
   "source": [
    "plt.figure(num=None, figsize=(12,3), dpi=80, facecolor='w', edgecolor='k')\n",
    "plt.subplot(141)\n",
    "plt.pcolormesh(A[0,:].reshape(6,6),cmap=plt.cm.gray)     \n",
    "plt.subplot(142)\n",
    "plt.pcolormesh(A[1,:].reshape(6,6),cmap=plt.cm.gray)  \n",
    "plt.subplot(143)\n",
    "plt.pcolormesh(A[2,:].reshape(6,6),cmap=plt.cm.gray)  \n",
    "plt.subplot(144)\n",
    "plt.pcolormesh(A[3,:].reshape(6,6),cmap=plt.cm.gray)  "
   ]
  },
  {
   "cell_type": "code",
   "execution_count": 2,
   "metadata": {
    "collapsed": false
   },
   "outputs": [
    {
     "ename": "NameError",
     "evalue": "name 'np' is not defined",
     "output_type": "error",
     "traceback": [
      "\u001b[0;31m---------------------------------------------------------------------------\u001b[0m",
      "\u001b[0;31mNameError\u001b[0m                                 Traceback (most recent call last)",
      "\u001b[0;32m<ipython-input-2-261ad980d6d5>\u001b[0m in \u001b[0;36m<module>\u001b[0;34m()\u001b[0m\n\u001b[0;32m----> 1\u001b[0;31m \u001b[0mA_inf\u001b[0m\u001b[0;34m=\u001b[0m\u001b[0mnp\u001b[0m\u001b[0;34m.\u001b[0m\u001b[0mdot\u001b[0m\u001b[0;34m(\u001b[0m\u001b[0mnp\u001b[0m\u001b[0;34m.\u001b[0m\u001b[0mdot\u001b[0m\u001b[0;34m(\u001b[0m\u001b[0mnp\u001b[0m\u001b[0;34m.\u001b[0m\u001b[0mlinalg\u001b[0m\u001b[0;34m.\u001b[0m\u001b[0minv\u001b[0m\u001b[0;34m(\u001b[0m\u001b[0;34m(\u001b[0m\u001b[0mnp\u001b[0m\u001b[0;34m.\u001b[0m\u001b[0mdot\u001b[0m\u001b[0;34m(\u001b[0m\u001b[0mZ\u001b[0m\u001b[0;34m.\u001b[0m\u001b[0mT\u001b[0m\u001b[0;34m,\u001b[0m\u001b[0mZ\u001b[0m\u001b[0;34m)\u001b[0m\u001b[0;34m+\u001b[0m\u001b[0;34m(\u001b[0m\u001b[0msigma_X\u001b[0m\u001b[0;34m/\u001b[0m\u001b[0msigma_A\u001b[0m\u001b[0;34m)\u001b[0m\u001b[0;34m*\u001b[0m\u001b[0mnp\u001b[0m\u001b[0;34m.\u001b[0m\u001b[0meye\u001b[0m\u001b[0;34m(\u001b[0m\u001b[0;36m20\u001b[0m\u001b[0;34m)\u001b[0m\u001b[0;34m)\u001b[0m\u001b[0;34m)\u001b[0m\u001b[0;34m,\u001b[0m\u001b[0mZ\u001b[0m\u001b[0;34m.\u001b[0m\u001b[0mT\u001b[0m\u001b[0;34m)\u001b[0m\u001b[0;34m,\u001b[0m\u001b[0mX\u001b[0m\u001b[0;34m)\u001b[0m\u001b[0;34m\u001b[0m\u001b[0m\n\u001b[0m",
      "\u001b[0;31mNameError\u001b[0m: name 'np' is not defined"
     ]
    }
   ],
   "source": [
    "A_inf=np.dot(np.dot(np.linalg.inv((np.dot(Z.T,Z)+(sigma_X/sigma_A)*np.eye(20))),Z.T),X)"
   ]
  },
  {
   "cell_type": "code",
   "execution_count": 1,
   "metadata": {
    "collapsed": false
   },
   "outputs": [
    {
     "ename": "NameError",
     "evalue": "name 'Z' is not defined",
     "output_type": "error",
     "traceback": [
      "\u001b[0;31m---------------------------------------------------------------------------\u001b[0m",
      "\u001b[0;31mNameError\u001b[0m                                 Traceback (most recent call last)",
      "\u001b[0;32m<ipython-input-1-bab1140ea8be>\u001b[0m in \u001b[0;36m<module>\u001b[0;34m()\u001b[0m\n\u001b[0;32m----> 1\u001b[0;31m \u001b[0mZ\u001b[0m\u001b[0;34m.\u001b[0m\u001b[0mshape\u001b[0m\u001b[0;34m\u001b[0m\u001b[0m\n\u001b[0m",
      "\u001b[0;31mNameError\u001b[0m: name 'Z' is not defined"
     ]
    }
   ],
   "source": [
    "Z.shape"
   ]
  },
  {
   "cell_type": "code",
   "execution_count": 60,
   "metadata": {
    "collapsed": false
   },
   "outputs": [
    {
     "data": {
      "text/plain": [
       "<matplotlib.collections.QuadMesh at 0x10b86a3d0>"
      ]
     },
     "execution_count": 60,
     "metadata": {},
     "output_type": "execute_result"
    },
    {
     "data": {
      "image/png": "[encoded data removed]",
      "text/plain": [
       "<matplotlib.figure.Figure at 0x10b415810>"
      ]
     },
     "metadata": {},
     "output_type": "display_data"
    }
   ],
   "source": [
    "plt.figure(num=None, figsize=(12,3), dpi=80, facecolor='w', edgecolor='k')\n",
    "plt.subplot(141)\n",
    "plt.pcolormesh(A_inf[0,:].reshape(6,6),cmap=plt.cm.gray)     \n",
    "plt.subplot(142)\n",
    "plt.pcolormesh(A_inf[1,:].reshape(6,6),cmap=plt.cm.gray)  \n",
    "plt.subplot(143)\n",
    "plt.pcolormesh(A_inf[2,:].reshape(6,6),cmap=plt.cm.gray)  \n",
    "plt.subplot(144)\n",
    "plt.pcolormesh(A_inf[3,:].reshape(6,6),cmap=plt.cm.gray)"
   ]
  },
  {
   "cell_type": "code",
   "execution_count": 61,
   "metadata": {
    "collapsed": false
   },
   "outputs": [],
   "source": [
    "np.random.seed(1)\n",
    "\n",
    "num_objects=100\n",
    "object_dim=36\n",
    " \n",
    "sigma_x_orig=0.5\n",
    "\n",
    "I=sigma_x_orig*np.eye(object_dim)\n",
    "Z_final=Z[:,0:4]\n",
    "\n",
    "X=np.zeros((num_objects,object_dim))\n",
    "\n",
    "for i in range(num_objects):\n",
    "    X[i,:]=np.dot(Z_final[i,:],A_inf[0:4,])"
   ]
  },
  {
   "cell_type": "code",
   "execution_count": 64,
   "metadata": {
    "collapsed": false
   },
   "outputs": [
    {
     "data": {
      "text/plain": [
       "<matplotlib.collections.QuadMesh at 0x10bff5350>"
      ]
     },
     "execution_count": 64,
     "metadata": {},
     "output_type": "execute_result"
    },
    {
     "data": {
      "image/png": "[encoded data removed]",
      "text/plain": [
       "<matplotlib.figure.Figure at 0x10bb14ed0>"
      ]
     },
     "metadata": {},
     "output_type": "display_data"
    }
   ],
   "source": [
    "plt.figure(num=None, figsize=(12,3), dpi=80, facecolor='w', edgecolor='k')\n",
    "plt.subplot(141)\n",
    "plt.pcolormesh(X[0,:].reshape(6,6),cmap=plt.cm.gray)\n",
    "plt.subplot(142)\n",
    "plt.pcolormesh(X[1,:].reshape(6,6),cmap=plt.cm.gray)\n",
    "plt.subplot(143)\n",
    "plt.pcolormesh(X[2,:].reshape(6,6),cmap=plt.cm.gray)\n",
    "plt.subplot(144)\n",
    "plt.pcolormesh(X[3,:].reshape(6,6),cmap=plt.cm.gray)"
   ]
  },
  {
   "cell_type": "code",
   "execution_count": 65,
   "metadata": {
    "collapsed": false
   },
   "outputs": [
    {
     "name": "stdout",
     "output_type": "stream",
     "text": [
      "[ 0.  1.  0.  0.]\n",
      "[ 1.  1.  0.  0.]\n",
      "[ 1.  1.  0.  1.]\n",
      "[ 1.  1.  0.  0.]\n"
     ]
    }
   ],
   "source": [
    "print Z_orig[0,:]\n",
    "print Z_orig[1,:]\n",
    "print Z_orig[2,:]\n",
    "print Z_orig[3,:]"
   ]
  },
  {
   "cell_type": "code",
   "execution_count": null,
   "metadata": {
    "collapsed": true
   },
   "outputs": [],
   "source": []
  },
  {
   "cell_type": "markdown",
   "metadata": {},
   "source": [
    "####Trace plots"
   ]
  },
  {
   "cell_type": "code",
   "execution_count": 25,
   "metadata": {
    "collapsed": false,
    "scrolled": true
   },
   "outputs": [
    {
     "name": "stdout",
     "output_type": "stream",
     "text": [
      "4.814\n"
     ]
    },
    {
     "data": {
      "text/plain": [
       "31.6250"
      ]
     },
     "execution_count": 25,
     "metadata": {},
     "output_type": "execute_result"
    },
    {
     "data": {
      "image/png": "[encoded data removed]",
      "text/plain": [
       "<matplotlib.figure.Figure at 0x10837eb50>"
      ]
     },
     "metadata": {},
     "output_type": "display_data"
    }
   ],
   "source": [
    "plt.plot(chain_K)\n",
    "print np.mean(chain_K)\n",
    "np.sum(chain_K[200:999]==4)/8"
   ]
  },
  {
   "cell_type": "code",
   "execution_count": 26,
   "metadata": {
    "collapsed": false,
    "scrolled": true
   },
   "outputs": [
    {
     "data": {
      "text/plain": [
       "0.9373"
      ]
     },
     "execution_count": 26,
     "metadata": {},
     "output_type": "execute_result"
    },
    {
     "data": {
      "image/png": "[encoded data removed]",
      "text/plain": [
       "<matplotlib.figure.Figure at 0x10837e3d0>"
      ]
     },
     "metadata": {},
     "output_type": "display_data"
    }
   ],
   "source": [
    "plt.plot(chain_alpha)\n",
    "np.mean(chain_alpha)"
   ]
  },
  {
   "cell_type": "code",
   "execution_count": 27,
   "metadata": {
    "collapsed": false
   },
   "outputs": [
    {
     "data": {
      "text/plain": [
       "0.5098"
      ]
     },
     "execution_count": 27,
     "metadata": {},
     "output_type": "execute_result"
    },
    {
     "data": {
      "image/png": "[encoded data removed]",
      "text/plain": [
       "<matplotlib.figure.Figure at 0x10913f150>"
      ]
     },
     "metadata": {},
     "output_type": "display_data"
    }
   ],
   "source": [
    "plt.plot(chain_sigma_X)\n",
    "mean=np.mean(chain_sigma_X)\n",
    "mean"
   ]
  },
  {
   "cell_type": "code",
   "execution_count": 73,
   "metadata": {
    "collapsed": false
   },
   "outputs": [],
   "source": [
    "npt.assert_almost_equal(mean, sigma_x_orig, decimal=1)"
   ]
  },
  {
   "cell_type": "code",
   "execution_count": 23,
   "metadata": {
    "collapsed": false
   },
   "outputs": [
    {
     "data": {
      "text/plain": [
       "0.4287"
      ]
     },
     "execution_count": 23,
     "metadata": {},
     "output_type": "execute_result"
    },
    {
     "data": {
      "image/png": "[encoded data removed]",
      "text/plain": [
       "<matplotlib.figure.Figure at 0x107d16f10>"
      ]
     },
     "metadata": {},
     "output_type": "display_data"
    }
   ],
   "source": [
    "plt.plot(chain_sigma_A)\n",
    "np.mean(chain_sigma_A)"
   ]
  },
  {
   "cell_type": "markdown",
   "metadata": {},
   "source": [
    "###7) Profiling"
   ]
  },
  {
   "cell_type": "code",
   "execution_count": null,
   "metadata": {
    "collapsed": false
   },
   "outputs": [],
   "source": [
    "print \"Total time taken for 1000 iterations of Gibbs Sampler and Metropolis Hastings is\",round(total,3),\"seconds\" "
   ]
  },
  {
   "cell_type": "markdown",
   "metadata": {},
   "source": [
    "###8) Optimization Strategies"
   ]
  },
  {
   "cell_type": "markdown",
   "metadata": {},
   "source": [
    "1) Write the likelihood function in C or Cython\n",
    "\n",
    "2) Probably might not be much help converting full code to C because we are using numpy anyway\n",
    "\n",
    "3) Put matrix M calculation inside the likelihood function and not do outside again and again\n",
    "\n",
    "4) Use Griffiths and Ghahramani (2005; Equations 51 to 54) for faster matrix inverse calculation\n",
    "\n",
    "5) Remove extra if/else statements\n",
    "\n",
    "6) Vectorize the loop for k_i\n",
    "\n",
    "7) Use JIT compiling"
   ]
  },
  {
   "cell_type": "code",
   "execution_count": null,
   "metadata": {
    "collapsed": true
   },
   "outputs": [],
   "source": [
    "To do:\n",
    "    -Show cython and normal version\n",
    "    -Show profilier pic of matlab code and that we are faster\n",
    "    -Compare with Chinese Rest Process\n",
    "    -Mention calcInverse in opti (coding in c wont help coz np.linalg.inv is already in c)\n",
    "    \n",
    "Python: 5.13\n",
    "Cython: 4.57\n",
    "2-core: 3.27\n",
    "    \n",
    "    \n",
    "Check about adding actual object detection (which object in which image). How to be done? "
   ]
  }
 ],
 "metadata": {
  "kernelspec": {
   "display_name": "Python 2",
   "language": "python",
   "name": "python2"
  },
  "language_info": {
   "codemirror_mode": {
    "name": "ipython",
    "version": 2
   },
   "file_extension": ".py",
   "mimetype": "text/x-python",
   "name": "python",
   "nbconvert_exporter": "python",
   "pygments_lexer": "ipython2",
   "version": "2.7.9"
  }
 },
 "nbformat": 4,
 "nbformat_minor": 0
}
