{
 "cells": [
  {
   "cell_type": "markdown",
   "metadata": {},
   "source": [
    "# Infinite Latent Feature Models and the Indian Buffet Process"
   ]
  },
  {
   "cell_type": "markdown",
   "metadata": {},
   "source": [
    "### 1) Outline"
   ]
  },
  {
   "cell_type": "markdown",
   "metadata": {},
   "source": [
    "####a) Definition of Indian Buffet Process (IBP)"
   ]
  },
  {
   "cell_type": "markdown",
   "metadata": {},
   "source": [
    "In the Indian buffet process, N customers enter a restaurant one after another. Each customer encounters a buffet consisting of infinitely many dishes arranged in a line. The first customer starts at the left of the buffet and takes a serving from each dish, stopping after a Poisson(α) number of dishes. The ith customer moves along the buffet, sampling dishes in proportion to their popularity, taking dish k with probability mk/i , where mk is the number of previous customers who have sampled that dish. Having reached the end of all previous sampled dishes, the ith customer then tries a Poisson(α/i) number of new dishes."
   ]
  },
  {
   "cell_type": "markdown",
   "metadata": {},
   "source": [
    "####b) Steps"
   ]
  },
  {
   "cell_type": "markdown",
   "metadata": {},
   "source": [
    "1) Start by defining a probability distribution over equivalence classes of binary matrices with a finite number of rows and an unbounded number of columns. This distribution is suitable for use as a prior in probabilistic models that represent objects using a potentially infinite array of features\n",
    "\n",
    "2) Next we see that the Indian Buffet Process is a simple generative process that results in the same distribution (as described in previous step) over equivalence classes because IBP has finite number of objects (people) and infinite number of features (dishes)\n",
    "\n",
    "3) We then define a Gibbs Sampler for models using this concept of IBP\n",
    "\n",
    "4) Further, to illustrate how IBP can be used as a prior in models for unsupervised learning, we derive and test a linear-Gaussian latent feature model in which the features are binary\n",
    "\n",
    "5) We start with a finite realization and then take the infinite limit"
   ]
  },
  {
   "cell_type": "markdown",
   "metadata": {
    "collapsed": false
   },
   "source": [
    "###2) Algorithm/Pseudocode:"
   ]
  },
  {
   "cell_type": "markdown",
   "metadata": {},
   "source": [
    "1) We use Gamma prior for $\\alpha$\n",
    "$$\n",
    "\\alpha \\sim Gamma(1,1)\n",
    "$$\n",
    "2) Prior on Z is obtained by IBP (after taking the infinite limit) as:\n",
    "$$\n",
    "P(z_{ik}=1|\\textbf{z}_{-i,k}) = \\frac{m_{-i,k}}{N}\n",
    "$$\n",
    "where ${z}_{-i,k}$ is the set of assignments of other objects, not including i, for feature k, and\n",
    "${m}_{-i,k}$ is the number of objects possessing feature k, not including i.\n",
    " \n",
    "3) Likelihood is given by\n",
    "\\begin{equation}\n",
    "P(X|Z,\\sigma_X,A) = \\frac{1}{(2 \\pi \\sigma_x^2)^{ND/2}}exp(-\\frac{1}{2\\sigma_X^2}tr((X-ZA)^T(X-ZA)))\n",
    "\\end{equation}\n",
    "where Z is the binary feature matrix and A is the weight matrix. $\\sigma_X$ and $\\sigma_A$ are the respective noise terms.\n",
    "Next, we integrate out A to get $P(X|Z,\\sigma_X,\\sigma_A)$.\n",
    " \n",
    "4) Using this likelihood and the prior given by IBP, full conditional posterior for Z can be calculated as:\n",
    "$$\n",
    "P(z_{ik}|X,Z_{-(i,k)},\\sigma_X,\\sigma_A) \\propto  P(X|Z,\\sigma_X,\\sigma_A) * P(z_{ik}=1|\\textbf{z}_{-i,k})\n",
    "$$\n",
    " \n",
    "5) Now, to sample the number of new features for observation $i$, we use a truncated distribution, computing probabilities for a range of values $K_1^{(i)}$ up to an upper bound. The prior on number of features is given by $Poisson(\\frac{\\alpha}{N})$.\n",
    "Using this prior and the likelihood, we sample the number of new features.\n",
    " \n",
    "6) Conditional posterior for $\\alpha$ is given by:\n",
    "$$\n",
    "P(\\alpha|Z) \\sim Gamma(1+K_+,1+\\sum_{i=1}^{N} H_i)\n",
    "$$\n",
    "where $H_N$ is the Nth harmonic number given by $H_N=\\sum_{j=1}^{N} 1/j$\n",
    " \n",
    "7) We now run the Gibbs Sampler using these full conditionals\n",
    "\n",
    "8) To update $\\sigma_X$ and $\\sigma_A$, we use MH algorithm as follows:\n",
    "\\begin{eqnarray}\n",
    "\\epsilon \\sim Uniform(-.05,.05)\\\\\n",
    "\\sigma_X^{*} =  \\sigma_X +\\epsilon\\\\\n",
    "\\sigma_A^{*} =  \\sigma_X +\\epsilon\\\\\n",
    "\\end{eqnarray}"
   ]
  },
  {
   "cell_type": "markdown",
   "metadata": {},
   "source": [
    "###3) Test cases:"
   ]
  },
  {
   "cell_type": "markdown",
   "metadata": {},
   "source": [
    "1) All probabilities must be between 0 and 1 i.e. $0<=\\frac{m_{-i,k}}{N}<=1$\n",
    "\n",
    "2) Harmonic number must be positive i.e. $H_N>0$\n",
    "\n",
    "3) Trace plots should show convergence\n",
    "\n",
    "4) When using simulated data, parameters should converge close to their true values used to simulate the data. We can make test cases such that they check that difference between posterior mean and true value is less than a threshold"
   ]
  },
  {
   "cell_type": "code",
   "execution_count": null,
   "metadata": {
    "collapsed": true
   },
   "outputs": [],
   "source": []
  }
 ],
 "metadata": {
  "kernelspec": {
   "display_name": "Python 2",
   "language": "python",
   "name": "python2"
  },
  "language_info": {
   "codemirror_mode": {
    "name": "ipython",
    "version": 2
   },
   "file_extension": ".py",
   "mimetype": "text/x-python",
   "name": "python",
   "nbconvert_exporter": "python",
   "pygments_lexer": "ipython2",
   "version": "2.7.9"
  }
 },
 "nbformat": 4,
 "nbformat_minor": 0
}
