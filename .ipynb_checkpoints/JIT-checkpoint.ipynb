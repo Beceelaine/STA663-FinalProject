{
 "cells": [
  {
   "cell_type": "markdown",
   "metadata": {},
   "source": [
    "### 5) Final code (JIT version)"
   ]
  },
  {
   "cell_type": "code",
   "execution_count": 28,
   "metadata": {
    "collapsed": true
   },
   "outputs": [],
   "source": [
    "import numpy as np\n",
    "from __future__ import division\n",
    "import math\n",
    "import time"
   ]
  },
  {
   "cell_type": "markdown",
   "metadata": {},
   "source": [
    "####Initial simulated data"
   ]
  },
  {
   "cell_type": "code",
   "execution_count": 29,
   "metadata": {
    "collapsed": false
   },
   "outputs": [],
   "source": [
    "np.random.seed(1)\n",
    "\n",
    "A=np.array([[0,1,0,0,0,0,1,1,1,0,0,0,0,1,0,0,0,0,0,0,0,0,0,0,0,0,0,0,0,0,0,0,0,0,0,0],\n",
    "   [0,0,0,1,1,1,0,0,0,1,0,1,0,0,0,1,1,1,0,0,0,0,0,0,0,0,0,0,0,0,0,0,0,0,0,0],\n",
    "   [0,0,0,0,0,0,0,0,0,0,0,0,0,0,0,0,0,0,1,0,0,0,0,0,1,1,0,0,0,0,1,1,1,0,0,0],\n",
    "   [0,0,0,0,0,0,0,0,0,0,0,0,0,0,0,0,0,0,0,0,0,1,1,1,0,0,0,0,1,0,0,0,0,0,1,0]])\n",
    "\n",
    "num_objects=100\n",
    "object_dim=36\n",
    " \n",
    "sigma_x_orig=0.5\n",
    "\n",
    "I=sigma_x_orig*np.eye(object_dim)\n",
    "Z_orig=np.zeros((num_objects,4))\n",
    "\n",
    "X=np.zeros((num_objects,object_dim))\n",
    "\n",
    "for i in range(num_objects):\n",
    "    Z_orig[i,:]=(np.random.uniform(0,1,4)>0.5)\n",
    "    while sum(Z_orig[i,:])==0:\n",
    "        Z_orig[i,:]=(np.random.uniform(0,1,4)>0.5)\n",
    "    X[i,:]=np.dot(np.random.normal(0,1,object_dim),I)+np.dot(Z_orig[i,:],A)"
   ]
  },
  {
   "cell_type": "code",
   "execution_count": 30,
   "metadata": {
    "collapsed": false
   },
   "outputs": [
    {
     "data": {
      "text/plain": [
       "array([[-0.26408588, -0.53648431,  0.43270381, ..., -0.0063323 ,\n",
       "        -0.55865517,  0.11720785],\n",
       "       [-0.37357915,  1.8462273 ,  0.02540388, ..., -1.01110061,\n",
       "        -0.15310201,  0.41398732],\n",
       "       [-0.11116407,  0.89962097,  0.0932807 , ..., -0.42975797,\n",
       "         1.17527299, -0.65614171],\n",
       "       ..., \n",
       "       [-0.34608745, -0.57328763,  0.2839653 , ..., -0.15453644,\n",
       "         0.85995226, -0.39341796],\n",
       "       [ 0.9069873 , -0.42860736, -0.57521005, ..., -0.32568077,\n",
       "        -0.02485471,  0.03989475],\n",
       "       [-0.82683494,  0.48477701,  0.42043053, ...,  0.73417024,\n",
       "         1.32870971, -0.29110863]])"
      ]
     },
     "execution_count": 30,
     "metadata": {},
     "output_type": "execute_result"
    }
   ],
   "source": [
    "X"
   ]
  },
  {
   "cell_type": "markdown",
   "metadata": {},
   "source": [
    "####IBP prior"
   ]
  },
  {
   "cell_type": "code",
   "execution_count": 31,
   "metadata": {
    "collapsed": false
   },
   "outputs": [
    {
     "name": "stdout",
     "output_type": "stream",
     "text": [
      "Overwriting jit_functions.py\n"
     ]
    }
   ],
   "source": [
    "%%file jit_functions.py\n",
    "from numba import jit\n",
    "import numpy as np\n",
    "\n",
    "@jit\n",
    "\n",
    "def likelihood(X, Z, M, sigma_A, sigma_X, K_plus, num_objects, object_dim):\n",
    "    log_ll=(-1)*num_objects*object_dim*0.5*np.log(2*np.pi)-1*(num_objects-K_plus)*object_dim*np.log(sigma_X)-K_plus*object_dim*np.log(sigma_A)-object_dim*(0.5)*np.log(np.linalg.det((np.dot(Z.T,Z) + np.dot((sigma_X**2/sigma_A**2),np.eye(K_plus)))))+(-1/(2*sigma_X**2))*np.trace(np.dot(np.dot(X.T,(np.eye(num_objects)-np.dot(np.dot(Z,M),Z.T))),X))\n",
    "    return log_ll\n",
    "\n",
    "def sampleIBP(alpha, num_objects):\n",
    "    result=np.zeros((num_objects, 1000))\n",
    "    t=np.random.poisson(alpha)\n",
    "    result[0,0:t]=np.ones(t)\n",
    "    K_plus=t\n",
    "    p=np.array((0,0))\n",
    "    for i in range(2, num_objects+1):\n",
    "        for j in range(K_plus):\n",
    "            p[0]=np.log(sum(result[0:i,j]))-np.log(i) #doubt in indices\n",
    "            p[1]=np.log(i - sum(result[0:i,j])) - np.log(i)\n",
    "            p = np.exp(p-max(p))\n",
    "            if np.random.uniform(0,1,1)<(p[0]/sum(p)):\n",
    "                result[i-1,j]=1\n",
    "            else:\n",
    "                result[i-1,j]=0\n",
    "        t=np.random.poisson(alpha/i)\n",
    "        result[i-1,K_plus:K_plus+t]=np.ones(t) #doubt in indices\n",
    "        K_plus=K_plus+t\n",
    "    \n",
    "    result=result[:,0:K_plus]\n",
    "    return(result,K_plus)"
   ]
  },
  {
   "cell_type": "markdown",
   "metadata": {},
   "source": [
    "####Gibbs Sampler and MH (with timing)"
   ]
  },
  {
   "cell_type": "code",
   "execution_count": 34,
   "metadata": {
    "collapsed": false,
    "scrolled": false
   },
   "outputs": [],
   "source": [
    "import numpy as np\n",
    "import math\n",
    "import time\n",
    "import jit_functions as func\n",
    "\n",
    "def sampler(X, E, BURN_IN, SAMPLE_SIZE, sigma_A, sigma_X, alpha, object_dim, num_objects):\n",
    "    HN=0.0\n",
    "    for i in range(1,num_objects+1): #check indices\n",
    "        HN=HN+1.0/i\n",
    "\n",
    "    K_inf=20\n",
    "\n",
    "    sam=func.sampleIBP(alpha,num_objects)\n",
    "\n",
    "    Z=sam[0]\n",
    "    K_plus=sam[1]\n",
    "\n",
    "    chain_Z=np.zeros((SAMPLE_SIZE,num_objects,K_inf))\n",
    "    chain_K=np.zeros((SAMPLE_SIZE,1))\n",
    "    chain_sigma_X=np.zeros((SAMPLE_SIZE,1))\n",
    "    chain_sigma_A=np.zeros((SAMPLE_SIZE,1))\n",
    "    chain_alpha=np.zeros((SAMPLE_SIZE,1))\n",
    "\n",
    "    s_counter=0\n",
    "    for e in range(E):\n",
    "        #print e, K_plus, alpha\n",
    "        if((e+1)>BURN_IN):\n",
    "            chain_Z[s_counter,:,0:K_plus]=Z[:,0:K_plus]\n",
    "            chain_K[s_counter]=K_plus\n",
    "            chain_sigma_X[s_counter]=sigma_X\n",
    "            chain_sigma_A[s_counter]=sigma_A\n",
    "            chain_alpha[s_counter]=alpha\n",
    "            s_counter=s_counter+1\n",
    "\n",
    "        for i in range(num_objects):\n",
    "            #M=np.linalg.inv((np.dot(Z[:,0:K_plus].T,Z[:,0:K_plus]) + np.dot(((sigma_X)**2/(sigma_A)**2),np.eye(K_plus))))\n",
    "            for k in range(K_plus):\n",
    "                if (k+1)>K_plus: #doubt\n",
    "                    break\n",
    "                if Z[i,k]>0:\n",
    "                    if (sum(Z[:,k]) - Z[i,k])<=0:\n",
    "                        Z[i,k]=0\n",
    "                        Z[:,k:(K_plus-1)] = Z[:,(k+1):K_plus] #doubt in indices\n",
    "                        K_plus = K_plus-1\n",
    "                        #Z[:,K_plus]=0\n",
    "                        #M=np.linalg.inv((np.dot(Z[:,0:K_plus].T,Z[:,0:K_plus]) + np.dot(((sigma_X)**2/(sigma_A)**2),np.eye(K_plus))))\n",
    "                        continue\n",
    "                #M1 = calcInverse(Z[:,0:K_plus], M, i, k, 1) #some shit\n",
    "                #M2 = calcInverse(Z[:,0:K_plus], M, i, k, 0) #some shit\n",
    "\n",
    "                P=np.array([0,0])\n",
    "\n",
    "                Z[i,k]=1\n",
    "                M1=np.linalg.inv((np.dot(Z[:,0:K_plus].T,Z[:,0:K_plus]) + np.dot(((sigma_X)**2/(sigma_A)**2),np.eye(K_plus))))\n",
    "                P[0]=func.likelihood(X, Z[:,0:K_plus], M1, sigma_A, sigma_X, K_plus, num_objects, object_dim) + np.log(sum(Z[:,k])- Z[i,k]) -np.log(num_objects)\n",
    "\n",
    "                Z[i,k]=0\n",
    "                M2=np.linalg.inv((np.dot(Z[:,0:K_plus].T,Z[:,0:K_plus]) + np.dot(((sigma_X)**2/(sigma_A)**2),np.eye(K_plus))))\n",
    "                P[1]=func.likelihood(X, Z[:,0:K_plus], M2, sigma_A, sigma_X, K_plus, num_objects, object_dim) + np.log(num_objects - sum(Z[:,k])) -np.log(num_objects)\n",
    "\n",
    "                P=np.exp(P - max(P))\n",
    "\n",
    "                if np.random.uniform(0,1,1)<(P[0]/(P[0]+P[1])):\n",
    "                    Z[i,k] = 1\n",
    "                    M = M1\n",
    "                else:\n",
    "                    Z[i,k] = 0\n",
    "                    M = M2\n",
    "\n",
    "            trun=np.zeros(5) #try 4\n",
    "            alpha_N = alpha/num_objects\n",
    "\n",
    "            for k_i in range(5):\n",
    "                if Z.shape[1]>(K_plus+k_i):\n",
    "                    #Z[:,K_plus:(K_plus+k_i)]=0 #added later\n",
    "                    Z[i,K_plus:(K_plus+k_i)]=1       \n",
    "                else:\n",
    "                    Ztemp=np.zeros((Z.shape[0],K_plus+k_i))\n",
    "                    Ztemp[0:Z.shape[0],0:Z.shape[1]]=Z\n",
    "                    #Ztemp[:,K_plus:(K_plus+k_i)] = 0 #added later\n",
    "                    Ztemp[i,K_plus:(K_plus+k_i)] = 1\n",
    "                    Z=Ztemp\n",
    "                #doubt in indices\n",
    "                M=np.linalg.inv((np.dot(Z[:,0:(K_plus+k_i)].T,Z[:,0:(K_plus+k_i)]) + np.dot(((sigma_X)**2/(sigma_A)**2),np.eye((K_plus+k_i)))))\n",
    "                trun[k_i] = k_i*np.log(alpha_N) - alpha_N - np.log(math.factorial(k_i)) + func.likelihood(X, Z[:,0:(K_plus+k_i)], M, sigma_A, sigma_X, K_plus+k_i, num_objects, object_dim)\n",
    "\n",
    "            Z[i,K_plus:K_plus+4] = 0 #check indices\n",
    "            trun = np.exp(trun - max(trun))\n",
    "            trun = trun/sum(trun)\n",
    "            p = np.random.uniform(0,1,1)\n",
    "            t = 0\n",
    "            #new_dishes=0\n",
    "            for k_i in range(5):\n",
    "                t = t+trun[k_i]\n",
    "                if p<t:\n",
    "                    new_dishes = k_i\n",
    "                    break\n",
    "            if Z.shape[1]>(K_plus+new_dishes):\n",
    "                Ztemp=Z\n",
    "                #Ztemp[:,K_plus:(K_plus+new_dishes)]=0 #added later\n",
    "                Ztemp[i,K_plus:(K_plus+new_dishes)]=1       \n",
    "            else:\n",
    "                Ztemp=np.zeros((Z.shape[0],K_plus+new_dishes))\n",
    "                Ztemp[0:Z.shape[0],0:Z.shape[1]]=Z\n",
    "                #Ztemp[:,K_plus:(K_plus+new_dishes)] = 0 #added later\n",
    "                Ztemp[i,K_plus:(K_plus+new_dishes)] = 1\n",
    "\n",
    "            #Ztemp=np.zeros((Z.shape[0],K_plus+new_dishes))\n",
    "            #Ztemp[0:Z.shape[0],0:Z.shape[1]]=Z\n",
    "            #Ztemp[i,K_plus:K_plus+new_dishes] = 1\n",
    "            Z=Ztemp\n",
    "            K_plus = K_plus + new_dishes\n",
    "\n",
    "        M=np.linalg.inv((np.dot(Z[:,0:K_plus+new_dishes].T,Z[:,0:K_plus+new_dishes]) + np.dot(((sigma_X)**2/(sigma_A)**2),np.eye(K_plus+new_dishes))))\n",
    "        l_curr=func.likelihood(X, Z[:,0:(K_plus+new_dishes)], M, sigma_A, sigma_X, K_plus+new_dishes, num_objects, object_dim)\n",
    "        if np.random.uniform(0,1,1)<.5:\n",
    "            pr_sigma_X=sigma_X-np.random.uniform(0,1,1)/20\n",
    "        else:\n",
    "            pr_sigma_X=sigma_X+np.random.uniform(0,1,1)/20\n",
    "\n",
    "        M=np.linalg.inv((np.dot(Z[:,0:K_plus+new_dishes].T,Z[:,0:K_plus+new_dishes]) + np.dot(((pr_sigma_X[0])**2/(sigma_A)**2),np.eye(K_plus+new_dishes))))\n",
    "        l_new_X=func.likelihood(X, Z[:,0:(K_plus+new_dishes)], M, sigma_A, pr_sigma_X[0], K_plus+new_dishes, num_objects, object_dim)\n",
    "        acc_X=np.exp(min(0,l_new_X-l_curr))\n",
    "\n",
    "        if np.random.uniform(0,1,1)<.5:\n",
    "            pr_sigma_A=sigma_A-np.random.uniform(0,1,1)/20\n",
    "        else:\n",
    "            pr_sigma_A=sigma_A+np.random.uniform(0,1,1)/20\n",
    "\n",
    "        M=np.linalg.inv((np.dot(Z[:,0:K_plus+new_dishes].T,Z[:,0:K_plus+new_dishes]) + np.dot(((sigma_X)**2/(pr_sigma_A[0])**2),np.eye(K_plus+new_dishes))))\n",
    "        l_new_A=func.likelihood(X, Z[:,0:(K_plus+new_dishes)], M, pr_sigma_A[0], sigma_X, K_plus+new_dishes, num_objects, object_dim)\n",
    "        acc_A=np.exp(min(0,l_new_A-l_curr))\n",
    "\n",
    "        if np.random.uniform(0,1,1)<acc_X:\n",
    "            sigma_X=pr_sigma_X[0]\n",
    "\n",
    "        if np.random.uniform(0,1,1)<acc_A:\n",
    "            sigma_A=pr_sigma_A[0]\n",
    "\n",
    "        alpha = np.random.gamma(1+K_plus, 1/(1+HN))\n",
    "    \n",
    "    print(\"Hey\")\n",
    "    return(chain_Z, chain_K, chain_sigma_A, chain_sigma_X, chain_alpha, Z)\n",
    "#removed K_plus + new_dishes from MH"
   ]
  },
  {
   "cell_type": "code",
   "execution_count": 35,
   "metadata": {
    "collapsed": false
   },
   "outputs": [],
   "source": [
    "from __future__ import division\n",
    "np.random.seed(1)\n",
    "\n",
    "E=1000 #change to 1000\n",
    "BURN_IN=0\n",
    "SAMPLE_SIZE=E-BURN_IN\n",
    "\n",
    "sigma_A=1.\n",
    "sigma_X=1.\n",
    "alpha=1.\n",
    "\n",
    "t0 = time.time()\n",
    "#chain_Z, chain_K, chain_sigma_A, chain_sigma_X, chain_alpha, Z=sampler(X, E, BURN_IN, SAMPLE_SIZE, sigma_A, sigma_X, alpha, object_dim, num_objects)\n",
    "t1 = time.time()\n",
    "total=t1-t0"
   ]
  },
  {
   "cell_type": "code",
   "execution_count": 36,
   "metadata": {
    "collapsed": false
   },
   "outputs": [
    {
     "name": "stdout",
     "output_type": "stream",
     "text": [
      "Hey\n",
      "Hey\n",
      "Hey\n",
      "Hey\n",
      "1 loops, best of 3: 6min 5s per loop\n"
     ]
    }
   ],
   "source": [
    "%timeit sampler(X, E, BURN_IN, SAMPLE_SIZE, sigma_A, sigma_X, alpha, object_dim, num_objects)"
   ]
  },
  {
   "cell_type": "markdown",
   "metadata": {},
   "source": [
    "###6) Results "
   ]
  },
  {
   "cell_type": "markdown",
   "metadata": {},
   "source": [
    "####Total time taken "
   ]
  },
  {
   "cell_type": "code",
   "execution_count": 27,
   "metadata": {
    "collapsed": false
   },
   "outputs": [
    {
     "data": {
      "text/plain": [
       "373.23421001434326"
      ]
     },
     "execution_count": 27,
     "metadata": {},
     "output_type": "execute_result"
    }
   ],
   "source": [
    "total"
   ]
  },
  {
   "cell_type": "code",
   "execution_count": null,
   "metadata": {
    "collapsed": false
   },
   "outputs": [],
   "source": [
    "plt.hist(chain_K,bins=range(10))"
   ]
  },
  {
   "cell_type": "markdown",
   "metadata": {},
   "source": [
    "####Images"
   ]
  },
  {
   "cell_type": "code",
   "execution_count": null,
   "metadata": {
    "collapsed": true
   },
   "outputs": [],
   "source": [
    "import matplotlib.pyplot as plt\n",
    "import matplotlib.cm as cm\n",
    "%matplotlib inline\n",
    "%precision 4\n",
    "plt.style.use('ggplot')"
   ]
  },
  {
   "cell_type": "code",
   "execution_count": null,
   "metadata": {
    "collapsed": false
   },
   "outputs": [],
   "source": [
    "plt.figure(num=None, figsize=(12,3), dpi=80, facecolor='w', edgecolor='k')\n",
    "plt.subplot(141)\n",
    "plt.pcolormesh(A[0,:].reshape(6,6),cmap=plt.cm.gray)     \n",
    "plt.subplot(142)\n",
    "plt.pcolormesh(A[1,:].reshape(6,6),cmap=plt.cm.gray)  \n",
    "plt.subplot(143)\n",
    "plt.pcolormesh(A[2,:].reshape(6,6),cmap=plt.cm.gray)  \n",
    "plt.subplot(144)\n",
    "plt.pcolormesh(A[3,:].reshape(6,6),cmap=plt.cm.gray)  "
   ]
  },
  {
   "cell_type": "code",
   "execution_count": null,
   "metadata": {
    "collapsed": false
   },
   "outputs": [],
   "source": [
    "Z=chain_Z[999,:,0:10].reshape(100,10)\n",
    "sigma_X=chain_sigma_X[999]\n",
    "sigma_A=chain_sigma_A[999]\n",
    "A_inf=np.dot(np.dot(np.linalg.inv((np.dot(Z.T,Z)+(sigma_X/sigma_A)*np.eye(10))),Z.T),X)"
   ]
  },
  {
   "cell_type": "code",
   "execution_count": null,
   "metadata": {
    "collapsed": false
   },
   "outputs": [],
   "source": [
    "plt.figure(num=None, figsize=(12,3), dpi=80, facecolor='w', edgecolor='k')\n",
    "plt.subplot(141)\n",
    "plt.pcolormesh(A_inf[3,:].reshape(6,6),cmap=plt.cm.gray)     \n",
    "plt.subplot(142)\n",
    "plt.pcolormesh(A_inf[0,:].reshape(6,6),cmap=plt.cm.gray)  \n",
    "plt.subplot(143)\n",
    "plt.pcolormesh(A_inf[1,:].reshape(6,6),cmap=plt.cm.gray)  \n",
    "plt.subplot(144)\n",
    "plt.pcolormesh(A_inf[2,:].reshape(6,6),cmap=plt.cm.gray)"
   ]
  },
  {
   "cell_type": "markdown",
   "metadata": {},
   "source": [
    "####Trace plots"
   ]
  },
  {
   "cell_type": "code",
   "execution_count": null,
   "metadata": {
    "collapsed": false
   },
   "outputs": [],
   "source": [
    "plt.plot(chain_K)\n",
    "print np.mean(chain_K)\n",
    "np.sum(chain_K[200:999]==4)/8"
   ]
  },
  {
   "cell_type": "code",
   "execution_count": null,
   "metadata": {
    "collapsed": false
   },
   "outputs": [],
   "source": [
    "plt.plot(chain_alpha)\n",
    "np.mean(chain_alpha)"
   ]
  },
  {
   "cell_type": "code",
   "execution_count": null,
   "metadata": {
    "collapsed": false
   },
   "outputs": [],
   "source": [
    "plt.plot(chain_sigma_X)\n",
    "np.mean(chain_sigma_X)"
   ]
  },
  {
   "cell_type": "code",
   "execution_count": null,
   "metadata": {
    "collapsed": false
   },
   "outputs": [],
   "source": [
    "plt.plot(chain_sigma_A)\n",
    "np.mean(chain_sigma_A)"
   ]
  },
  {
   "cell_type": "markdown",
   "metadata": {},
   "source": [
    "###7) Profiling"
   ]
  },
  {
   "cell_type": "code",
   "execution_count": null,
   "metadata": {
    "collapsed": false
   },
   "outputs": [],
   "source": [
    "print \"Total time taken for 1000 iterations of Gibbs Sampler and Metropolis Hastings is\",round(total,3),\"seconds\" "
   ]
  },
  {
   "cell_type": "markdown",
   "metadata": {},
   "source": [
    "###8) Optimization Strategies"
   ]
  },
  {
   "cell_type": "markdown",
   "metadata": {},
   "source": [
    "1) Write the likelihood function in C or Cython\n",
    "\n",
    "2) Probably might not be much help converting full code to C because we are using numpy anyway\n",
    "\n",
    "3) Put matrix M calculation inside the likelihood function and not do outside again and again\n",
    "\n",
    "4) Use Griffiths and Ghahramani (2005; Equations 51 to 54) for faster matrix inverse calculation\n",
    "\n",
    "5) Remove extra if/else statements\n",
    "\n",
    "6) Vectorize the loop for k_i\n",
    "\n",
    "7) Use JIT compiling"
   ]
  }
 ],
 "metadata": {
  "kernelspec": {
   "display_name": "Python 2",
   "language": "python",
   "name": "python2"
  },
  "language_info": {
   "codemirror_mode": {
    "name": "ipython",
    "version": 2
   },
   "file_extension": ".py",
   "mimetype": "text/x-python",
   "name": "python",
   "nbconvert_exporter": "python",
   "pygments_lexer": "ipython2",
   "version": "2.7.9"
  }
 },
 "nbformat": 4,
 "nbformat_minor": 0
}
